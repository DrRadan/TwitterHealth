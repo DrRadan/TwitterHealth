{
 "cells": [
  {
   "cell_type": "markdown",
   "metadata": {},
   "source": [
    "## Step1. Use API to grab data"
   ]
  },
  {
   "cell_type": "code",
   "execution_count": 1,
   "metadata": {
    "collapsed": true
   },
   "outputs": [],
   "source": [
    "import requests\n",
    "import pandas as pd\n",
    "import numpy as np\n",
    "import math\n",
    "import matplotlib.pyplot as plt\n",
    "'''\n",
    "Database \n",
    "\n",
    "Nutrient      id     unit\n",
    "\n",
    "protein       203    g/100g\n",
    "fat           204    g/100g\n",
    "total_carbon  205    g/100g\n",
    "energy        208    kcal/100g\n",
    "sugar         269    g/100g\n",
    "sodium        307    mg/100g\n",
    "'''\n",
    "\n",
    "response1500 = requests.get('https://api.nal.usda.gov/ndb/nutrients/?format=json&api_key=ytzdrrYZCsj8QY4ThsCMxxc5Lo143KWRmCj1BCbX&nutrients=205&nutrients=204&nutrients=208&nutrients=269&nutrients=203&nutrients=307&max=1500', \n",
    "                        headers={'Authorization': 'access_token myToken'})\n",
    "response3000 = requests.get('https://api.nal.usda.gov/ndb/nutrients/?format=json&api_key=ytzdrrYZCsj8QY4ThsCMxxc5Lo143KWRmCj1BCbX&nutrients=205&nutrients=204&nutrients=208&nutrients=269&nutrients=203&nutrients=307&max=1500&offset=1500', \n",
    "                        headers={'Authorization': 'access_token myToken'})\n",
    "response4500 = requests.get('https://api.nal.usda.gov/ndb/nutrients/?format=json&api_key=ytzdrrYZCsj8QY4ThsCMxxc5Lo143KWRmCj1BCbX&nutrients=205&nutrients=204&nutrients=208&nutrients=269&nutrients=203&nutrients=307&max=1500&offset=3000', \n",
    "                        headers={'Authorization': 'access_token myToken'})\n",
    "response6000 = requests.get('https://api.nal.usda.gov/ndb/nutrients/?format=json&api_key=ytzdrrYZCsj8QY4ThsCMxxc5Lo143KWRmCj1BCbX&nutrients=205&nutrients=204&nutrients=208&nutrients=269&nutrients=203&nutrients=307&max=1500&offset=4500', \n",
    "                        headers={'Authorization': 'access_token myToken'})\n",
    "response7500 = requests.get('https://api.nal.usda.gov/ndb/nutrients/?format=json&api_key=ytzdrrYZCsj8QY4ThsCMxxc5Lo143KWRmCj1BCbX&nutrients=205&nutrients=204&nutrients=208&nutrients=269&nutrients=203&nutrients=307&max=1500&offset=6000', \n",
    "                        headers={'Authorization': 'access_token myToken'})\n",
    "response_end = requests.get('https://api.nal.usda.gov/ndb/nutrients/?format=json&api_key=ytzdrrYZCsj8QY4ThsCMxxc5Lo143KWRmCj1BCbX&nutrients=205&nutrients=204&nutrients=208&nutrients=269&nutrients=203&nutrients=307&max=1500&offset=7500', \n",
    "                        headers={'Authorization': 'access_token myToken'})\n",
    "\n",
    "responses = [response1500.json(),response3000.json(),response4500.json(),response6000.json(),response7500.json(),response_end.json()]\n"
   ]
  },
  {
   "cell_type": "code",
   "execution_count": 4,
   "metadata": {},
   "outputs": [
    {
     "name": "stdout",
     "output_type": "stream",
     "text": [
      "2.5.1\n"
     ]
    },
    {
     "data": {
      "text/html": [
       "<script>requirejs.config({paths: { 'plotly': ['https://cdn.plot.ly/plotly-latest.min']},});if(!window.Plotly) {{require(['plotly'],function(plotly) {window.Plotly=plotly;});}}</script>"
      ],
      "text/vnd.plotly.v1+html": [
       "<script>requirejs.config({paths: { 'plotly': ['https://cdn.plot.ly/plotly-latest.min']},});if(!window.Plotly) {{require(['plotly'],function(plotly) {window.Plotly=plotly;});}}</script>"
      ]
     },
     "metadata": {},
     "output_type": "display_data"
    }
   ],
   "source": [
    "# Import package\n",
    "import warnings\n",
    "warnings.filterwarnings(\"ignore\")\n",
    "from plotly import tools\n",
    "import plotly.plotly as py\n",
    "import plotly.graph_objs as go\n",
    "import plotly.figure_factory as ff\n",
    "import seaborn as sns\n",
    "from plotly import __version__\n",
    "from plotly.offline import download_plotlyjs, init_notebook_mode, plot,iplot\n",
    "from sklearn import preprocessing\n",
    "from sklearn.preprocessing import MinMaxScaler\n",
    "from scipy import stats\n",
    "import statsmodels.api as sm\n",
    "from statsmodels.graphics.api import qqplot\n",
    "\n",
    "print (__version__) # requires version >= 1.9.0\n",
    "%matplotlib inline \n",
    "#Always run this the command before at the start of notebook\n",
    "init_notebook_mode(connected=True)\n",
    "pd.set_option(\"display.max_rows\",900)"
   ]
  },
  {
   "cell_type": "markdown",
   "metadata": {},
   "source": [
    "## Step2. Transfer the json file to dataframe "
   ]
  },
  {
   "cell_type": "code",
   "execution_count": 5,
   "metadata": {
    "collapsed": true
   },
   "outputs": [],
   "source": [
    "colnames = ['Name','Energy','Sodium','Sugar','Protein','Fat','Carbohydrate']\n",
    "\n",
    "def gen_df():\n",
    "    for response in responses: \n",
    "        for _, value in response.items():\n",
    "            v = value\n",
    "            food = v.get('foods')\n",
    "            for i in range(len(food)):\n",
    "                d = [food[i].get('name')]\n",
    "                d.extend(list(map(lambda x: x.get('gm'),food[i].get('nutrients'))))\n",
    "                yield d\n",
    "                \n",
    "food_df = pd.DataFrame(gen_df(), columns= colnames)"
   ]
  },
  {
   "cell_type": "markdown",
   "metadata": {},
   "source": [
    "## Step3. Basic exlporing  "
   ]
  },
  {
   "cell_type": "markdown",
   "metadata": {},
   "source": [
    "- __Create column with higher level catrgory__"
   ]
  },
  {
   "cell_type": "code",
   "execution_count": 22,
   "metadata": {
    "collapsed": true,
    "scrolled": true
   },
   "outputs": [],
   "source": [
    "name_df = food_df['Name'].str.split(',',4,expand=True).rename(columns=lambda x: f\"subcategory_{x+1}\")"
   ]
  },
  {
   "cell_type": "code",
   "execution_count": 23,
   "metadata": {
    "collapsed": true
   },
   "outputs": [],
   "source": [
    "food_df['Category'] = name_df['subcategory_1']\n",
    "food_df['Sub_Category1'] = name_df['subcategory_2']\n",
    "food_df['Sub_Category2'] = name_df['subcategory_3']\n",
    "food_df['Sub_Category3'] = name_df['subcategory_4']"
   ]
  },
  {
   "cell_type": "code",
   "execution_count": 24,
   "metadata": {},
   "outputs": [
    {
     "data": {
      "text/html": [
       "<div>\n",
       "<style>\n",
       "    .dataframe thead tr:only-child th {\n",
       "        text-align: right;\n",
       "    }\n",
       "\n",
       "    .dataframe thead th {\n",
       "        text-align: left;\n",
       "    }\n",
       "\n",
       "    .dataframe tbody tr th {\n",
       "        vertical-align: top;\n",
       "    }\n",
       "</style>\n",
       "<table border=\"1\" class=\"dataframe\">\n",
       "  <thead>\n",
       "    <tr style=\"text-align: right;\">\n",
       "      <th></th>\n",
       "      <th>Name</th>\n",
       "      <th>Energy</th>\n",
       "      <th>Sodium</th>\n",
       "      <th>Sugar</th>\n",
       "      <th>Protein</th>\n",
       "      <th>Fat</th>\n",
       "      <th>Carbohydrate</th>\n",
       "      <th>Category</th>\n",
       "      <th>Sub_Category1</th>\n",
       "      <th>Sub_Category2</th>\n",
       "      <th>Sub_Category3</th>\n",
       "    </tr>\n",
       "  </thead>\n",
       "  <tbody>\n",
       "    <tr>\n",
       "      <th>0</th>\n",
       "      <td>Abiyuch, raw</td>\n",
       "      <td>69.0</td>\n",
       "      <td>20</td>\n",
       "      <td>8.55</td>\n",
       "      <td>1.5</td>\n",
       "      <td>0.1</td>\n",
       "      <td>17.6</td>\n",
       "      <td>Abiyuch</td>\n",
       "      <td>raw</td>\n",
       "      <td>None</td>\n",
       "      <td>None</td>\n",
       "    </tr>\n",
       "    <tr>\n",
       "      <th>1</th>\n",
       "      <td>Acerola juice, raw</td>\n",
       "      <td>23.0</td>\n",
       "      <td>3</td>\n",
       "      <td>4.5</td>\n",
       "      <td>0.4</td>\n",
       "      <td>0.3</td>\n",
       "      <td>4.8</td>\n",
       "      <td>Acerola juice</td>\n",
       "      <td>raw</td>\n",
       "      <td>None</td>\n",
       "      <td>None</td>\n",
       "    </tr>\n",
       "    <tr>\n",
       "      <th>2</th>\n",
       "      <td>Acerola, (west indian cherry), raw</td>\n",
       "      <td>32.0</td>\n",
       "      <td>7</td>\n",
       "      <td>--</td>\n",
       "      <td>0.4</td>\n",
       "      <td>0.3</td>\n",
       "      <td>7.69</td>\n",
       "      <td>Acerola</td>\n",
       "      <td>(west indian cherry)</td>\n",
       "      <td>raw</td>\n",
       "      <td>None</td>\n",
       "    </tr>\n",
       "    <tr>\n",
       "      <th>3</th>\n",
       "      <td>Alcoholic beverage, beer, light</td>\n",
       "      <td>29.0</td>\n",
       "      <td>4</td>\n",
       "      <td>0.09</td>\n",
       "      <td>0.24</td>\n",
       "      <td>0</td>\n",
       "      <td>1.64</td>\n",
       "      <td>Alcoholic beverage</td>\n",
       "      <td>beer</td>\n",
       "      <td>light</td>\n",
       "      <td>None</td>\n",
       "    </tr>\n",
       "    <tr>\n",
       "      <th>4</th>\n",
       "      <td>Alcoholic beverage, beer, light, BUD LIGHT</td>\n",
       "      <td>29.0</td>\n",
       "      <td>3</td>\n",
       "      <td>--</td>\n",
       "      <td>0.25</td>\n",
       "      <td>0</td>\n",
       "      <td>1.3</td>\n",
       "      <td>Alcoholic beverage</td>\n",
       "      <td>beer</td>\n",
       "      <td>light</td>\n",
       "      <td>BUD LIGHT</td>\n",
       "    </tr>\n",
       "  </tbody>\n",
       "</table>\n",
       "</div>"
      ],
      "text/plain": [
       "                                         Name  Energy Sodium Sugar Protein  \\\n",
       "0                                Abiyuch, raw    69.0     20  8.55     1.5   \n",
       "1                          Acerola juice, raw    23.0      3   4.5     0.4   \n",
       "2          Acerola, (west indian cherry), raw    32.0      7    --     0.4   \n",
       "3             Alcoholic beverage, beer, light    29.0      4  0.09    0.24   \n",
       "4  Alcoholic beverage, beer, light, BUD LIGHT    29.0      3    --    0.25   \n",
       "\n",
       "   Fat Carbohydrate            Category          Sub_Category1 Sub_Category2  \\\n",
       "0  0.1         17.6             Abiyuch                    raw          None   \n",
       "1  0.3          4.8       Acerola juice                    raw          None   \n",
       "2  0.3         7.69             Acerola   (west indian cherry)           raw   \n",
       "3    0         1.64  Alcoholic beverage                   beer         light   \n",
       "4    0          1.3  Alcoholic beverage                   beer         light   \n",
       "\n",
       "  Sub_Category3  \n",
       "0          None  \n",
       "1          None  \n",
       "2          None  \n",
       "3          None  \n",
       "4     BUD LIGHT  "
      ]
     },
     "execution_count": 24,
     "metadata": {},
     "output_type": "execute_result"
    }
   ],
   "source": [
    "food_df.head()"
   ]
  },
  {
   "cell_type": "code",
   "execution_count": 26,
   "metadata": {},
   "outputs": [
    {
     "data": {
      "text/html": [
       "<div>\n",
       "<style>\n",
       "    .dataframe thead tr:only-child th {\n",
       "        text-align: right;\n",
       "    }\n",
       "\n",
       "    .dataframe thead th {\n",
       "        text-align: left;\n",
       "    }\n",
       "\n",
       "    .dataframe tbody tr th {\n",
       "        vertical-align: top;\n",
       "    }\n",
       "</style>\n",
       "<table border=\"1\" class=\"dataframe\">\n",
       "  <thead>\n",
       "    <tr style=\"text-align: right;\">\n",
       "      <th></th>\n",
       "      <th>Category</th>\n",
       "      <th>Sub_Category1</th>\n",
       "      <th>Sub_Category2</th>\n",
       "      <th>Energy</th>\n",
       "    </tr>\n",
       "  </thead>\n",
       "  <tbody>\n",
       "    <tr>\n",
       "      <th>0</th>\n",
       "      <td>APPLEBEE'S</td>\n",
       "      <td>KRAFT</td>\n",
       "      <td>Macaroni &amp;amp; Cheese</td>\n",
       "      <td>143.0</td>\n",
       "    </tr>\n",
       "    <tr>\n",
       "      <th>1</th>\n",
       "      <td>APPLEBEE'S</td>\n",
       "      <td>chicken tenders</td>\n",
       "      <td>from kids' menu</td>\n",
       "      <td>296.0</td>\n",
       "    </tr>\n",
       "    <tr>\n",
       "      <th>2</th>\n",
       "      <td>APPLEBEE'S</td>\n",
       "      <td>fish</td>\n",
       "      <td>hand battered</td>\n",
       "      <td>202.0</td>\n",
       "    </tr>\n",
       "    <tr>\n",
       "      <th>3</th>\n",
       "      <td>ARBY'S</td>\n",
       "      <td>roast beef sandwich</td>\n",
       "      <td>classic</td>\n",
       "      <td>242.0</td>\n",
       "    </tr>\n",
       "    <tr>\n",
       "      <th>4</th>\n",
       "      <td>Acerola</td>\n",
       "      <td>(west indian cherry)</td>\n",
       "      <td>raw</td>\n",
       "      <td>32.0</td>\n",
       "    </tr>\n",
       "  </tbody>\n",
       "</table>\n",
       "</div>"
      ],
      "text/plain": [
       "     Category          Sub_Category1           Sub_Category2  Energy\n",
       "0  APPLEBEE'S                  KRAFT   Macaroni &amp; Cheese   143.0\n",
       "1  APPLEBEE'S        chicken tenders         from kids' menu   296.0\n",
       "2  APPLEBEE'S                   fish           hand battered   202.0\n",
       "3      ARBY'S    roast beef sandwich                 classic   242.0\n",
       "4     Acerola   (west indian cherry)                     raw    32.0"
      ]
     },
     "execution_count": 26,
     "metadata": {},
     "output_type": "execute_result"
    }
   ],
   "source": [
    "food_df_level3 = food_df.groupby(['Category','Sub_Category1','Sub_Category2']).mean()\n",
    "food_df_level3.reset_index(inplace= True)\n",
    "food_df_level3.head()"
   ]
  },
  {
   "cell_type": "code",
   "execution_count": 27,
   "metadata": {
    "collapsed": true
   },
   "outputs": [],
   "source": [
    "food_df_level3.to_csv(\"food_df_level3.csv\",index= False)\n",
    "# pd.read_csv(\"food_df_level3.csv\")"
   ]
  },
  {
   "cell_type": "markdown",
   "metadata": {},
   "source": [
    "# Health Scale\n",
    "## All original energy values are mapping to health scale from 0 to 1"
   ]
  },
  {
   "cell_type": "code",
   "execution_count": 28,
   "metadata": {
    "collapsed": true
   },
   "outputs": [],
   "source": [
    "def normalization(x):\n",
    "    return (x - min(x))/(max(x) - min(x))\n",
    "def log2(x):\n",
    "    return np.log(x)"
   ]
  },
  {
   "cell_type": "code",
   "execution_count": 29,
   "metadata": {
    "collapsed": true
   },
   "outputs": [],
   "source": [
    "### log transformation to make data not skew \n",
    "food_df_level3['log_Energy'] = log2(food_df_level3['Energy']+1)   \n",
    "### normalize data to [0 1]\n",
    "food_df_level3['norm_Energy'] = normalization(food_df_level3['Energy'])\n",
    "food_df_level3['norm_log_Energy'] = normalization(food_df_level3['log_Energy'])"
   ]
  },
  {
   "cell_type": "code",
   "execution_count": 31,
   "metadata": {},
   "outputs": [
    {
     "data": {
      "text/html": [
       "<div>\n",
       "<style>\n",
       "    .dataframe thead tr:only-child th {\n",
       "        text-align: right;\n",
       "    }\n",
       "\n",
       "    .dataframe thead th {\n",
       "        text-align: left;\n",
       "    }\n",
       "\n",
       "    .dataframe tbody tr th {\n",
       "        vertical-align: top;\n",
       "    }\n",
       "</style>\n",
       "<table border=\"1\" class=\"dataframe\">\n",
       "  <thead>\n",
       "    <tr style=\"text-align: right;\">\n",
       "      <th></th>\n",
       "      <th>Category</th>\n",
       "      <th>Sub_Category1</th>\n",
       "      <th>Sub_Category2</th>\n",
       "      <th>Energy</th>\n",
       "      <th>log_Energy</th>\n",
       "      <th>norm_Energy</th>\n",
       "      <th>norm_log_Energy</th>\n",
       "    </tr>\n",
       "  </thead>\n",
       "  <tbody>\n",
       "    <tr>\n",
       "      <th>0</th>\n",
       "      <td>APPLEBEE'S</td>\n",
       "      <td>KRAFT</td>\n",
       "      <td>Macaroni &amp;amp; Cheese</td>\n",
       "      <td>143.0</td>\n",
       "      <td>4.969813</td>\n",
       "      <td>0.158537</td>\n",
       "      <td>0.730240</td>\n",
       "    </tr>\n",
       "    <tr>\n",
       "      <th>1</th>\n",
       "      <td>APPLEBEE'S</td>\n",
       "      <td>chicken tenders</td>\n",
       "      <td>from kids' menu</td>\n",
       "      <td>296.0</td>\n",
       "      <td>5.693732</td>\n",
       "      <td>0.328160</td>\n",
       "      <td>0.836609</td>\n",
       "    </tr>\n",
       "    <tr>\n",
       "      <th>2</th>\n",
       "      <td>APPLEBEE'S</td>\n",
       "      <td>fish</td>\n",
       "      <td>hand battered</td>\n",
       "      <td>202.0</td>\n",
       "      <td>5.313206</td>\n",
       "      <td>0.223947</td>\n",
       "      <td>0.780697</td>\n",
       "    </tr>\n",
       "    <tr>\n",
       "      <th>3</th>\n",
       "      <td>ARBY'S</td>\n",
       "      <td>roast beef sandwich</td>\n",
       "      <td>classic</td>\n",
       "      <td>242.0</td>\n",
       "      <td>5.493061</td>\n",
       "      <td>0.268293</td>\n",
       "      <td>0.807124</td>\n",
       "    </tr>\n",
       "    <tr>\n",
       "      <th>4</th>\n",
       "      <td>Acerola</td>\n",
       "      <td>(west indian cherry)</td>\n",
       "      <td>raw</td>\n",
       "      <td>32.0</td>\n",
       "      <td>3.496508</td>\n",
       "      <td>0.035477</td>\n",
       "      <td>0.513760</td>\n",
       "    </tr>\n",
       "  </tbody>\n",
       "</table>\n",
       "</div>"
      ],
      "text/plain": [
       "     Category          Sub_Category1           Sub_Category2  Energy  \\\n",
       "0  APPLEBEE'S                  KRAFT   Macaroni &amp; Cheese   143.0   \n",
       "1  APPLEBEE'S        chicken tenders         from kids' menu   296.0   \n",
       "2  APPLEBEE'S                   fish           hand battered   202.0   \n",
       "3      ARBY'S    roast beef sandwich                 classic   242.0   \n",
       "4     Acerola   (west indian cherry)                     raw    32.0   \n",
       "\n",
       "   log_Energy  norm_Energy  norm_log_Energy  \n",
       "0    4.969813     0.158537         0.730240  \n",
       "1    5.693732     0.328160         0.836609  \n",
       "2    5.313206     0.223947         0.780697  \n",
       "3    5.493061     0.268293         0.807124  \n",
       "4    3.496508     0.035477         0.513760  "
      ]
     },
     "execution_count": 31,
     "metadata": {},
     "output_type": "execute_result"
    }
   ],
   "source": [
    "food_df_level3.head()"
   ]
  },
  {
   "cell_type": "code",
   "execution_count": 36,
   "metadata": {},
   "outputs": [
    {
     "data": {
      "image/png": "[encoded data removed]",
      "text/plain": [
       "<matplotlib.figure.Figure at 0x1c1d4456a0>"
      ]
     },
     "metadata": {},
     "output_type": "display_data"
    },
    {
     "data": {
      "image/png": "[encoded data removed]",
      "text/plain": [
       "<matplotlib.figure.Figure at 0x1c1ce2e240>"
      ]
     },
     "metadata": {},
     "output_type": "display_data"
    },
    {
     "data": {
      "image/png": "[encoded data removed]",
      "text/plain": [
       "<matplotlib.figure.Figure at 0x1c1dd6ae48>"
      ]
     },
     "metadata": {},
     "output_type": "display_data"
    }
   ],
   "source": [
    "plt.hist(food_df_level3.Energy)\n",
    "plt.show()\n",
    "plt.hist(food_df_level3.norm_Energy)\n",
    "plt.show()\n",
    "plt.hist(food_df_level3.norm_log_Energy)\n",
    "plt.show()"
   ]
  }
 ],
 "metadata": {
  "kernelspec": {
   "display_name": "Python 3",
   "language": "python",
   "name": "python3"
  },
  "language_info": {
   "codemirror_mode": {
    "name": "ipython",
    "version": 3
   },
   "file_extension": ".py",
   "mimetype": "text/x-python",
   "name": "python",
   "nbconvert_exporter": "python",
   "pygments_lexer": "ipython3",
   "version": "3.6.3"
  }
 },
 "nbformat": 4,
 "nbformat_minor": 2
}
