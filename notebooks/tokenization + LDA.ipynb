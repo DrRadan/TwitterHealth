{
 "cells": [
  {
   "cell_type": "code",
   "execution_count": 131,
   "metadata": {},
   "outputs": [],
   "source": [
    "import spacy\n",
    "import string\n",
    "from spacy.matcher import Matcher\n",
    "from spacy.tokens import Token\n",
    "import pickle as pkl\n",
    "from collections import Counter\n",
    "\n",
    "tokenizer = spacy.load('en_core_web_sm')\n",
    "punctuations = string.punctuation\n",
    "whitelist = {'cannot','neither','never',\\\n",
    " 'nevertheless',\\\n",
    " 'no',\n",
    " 'nobody',\n",
    " 'none',\n",
    " 'noone',\n",
    " 'nor',\n",
    " 'not',\n",
    " 'nothing','nowhere','unless'}\n",
    "def change_stopwords(target_list):\n",
    "    for word in target_list:\n",
    "        tokenizer.vocab[word].is_stop = False\n",
    "\n",
    "\n",
    "def tokenize3(sent):\n",
    "    try:\n",
    "        tokens = tokenizer(sent)\n",
    "        result = []\n",
    "        for token in tokens:\n",
    "            if (token.is_punct) or (token.is_stop):\n",
    "                pass\n",
    "            elif token.lemma_ ==  '-PRON-':\n",
    "                result.append(token.text.lower())\n",
    "            else:\n",
    "                result.append(token.lemma_)\n",
    "        target_string = ' '.join(result) \n",
    "        return re.sub(r'[^\\w\\s]', '', target_string)\n",
    "    except (KeyboardInterrupt, SystemExit):\n",
    "        raise\n",
    "    except TypeError: \n",
    "        pass\n",
    "    \n",
    "# remove negation from defaults stop words\n",
    "change_stopwords(whitelist)"
   ]
  },
  {
   "cell_type": "code",
   "execution_count": 1,
   "metadata": {
    "collapsed": true
   },
   "outputs": [],
   "source": [
    "import pandas as pd\n",
    "tweets1 = pd.read_csv(\"data/output_2015_06.csv\",index_col=False)\n",
    "tweets1.drop('Unnamed: 0',axis = 1, inplace = True)\n",
    "texts = tweets1.loc[:, 'without_emoji_text']\n",
    "print(tokenize3(texts[0]))"
   ]
  },
  {
   "cell_type": "code",
   "execution_count": 135,
   "metadata": {},
   "outputs": [],
   "source": [
    "# text1_tokenized = list(map(lambda x: tokenize3(x),texts[0:1000000]))\n",
    "# text2_tokenized = list(map(lambda x: tokenize3(x),texts[1000000:2000000]))\n",
    "# text3_tokenized = list(map(lambda x: tokenize3(x),texts[2000000:3000000]))\n",
    "# text4_tokenized = list(map(lambda x: tokenize3(x),texts[3000000:4000000]))\n",
    "# text5_tokenized = list(map(lambda x: tokenize3(x),texts[4000000:5000000]))\n",
    "# text6_tokenized = list(map(lambda x: tokenize3(x),texts[5000000:]))\n",
    "# text_tokenized = text1_tokenized + text2_tokenized + text3_tokenized + text4_tokenized + text5_tokenized + text6_tokenized\n",
    "# text_tokenized = list(filter(None, text_tokenized))\n",
    "# with open(\"201506.pickle\", \"wb\") as output_file:\n",
    "#     pkl.dump(text_tokenized, output_file)"
   ]
  },
  {
   "cell_type": "code",
   "execution_count": 181,
   "metadata": {},
   "outputs": [],
   "source": [
    "with open(\"201506.pickle\", \"rb\") as input_file:\n",
    "    text_tokenized = pkl.load(input_file)"
   ]
  },
  {
   "cell_type": "code",
   "execution_count": 182,
   "metadata": {},
   "outputs": [
    {
     "data": {
      "text/plain": [
       "5441195"
      ]
     },
     "execution_count": 182,
     "metadata": {},
     "output_type": "execute_result"
    }
   ],
   "source": [
    "len(text_tokenized)"
   ]
  },
  {
   "cell_type": "code",
   "execution_count": 232,
   "metadata": {},
   "outputs": [
    {
     "data": {
      "image/png": "[encoded data removed]",
      "text/plain": [
       "<matplotlib.figure.Figure at 0x1a65e42eb8>"
      ]
     },
     "metadata": {},
     "output_type": "display_data"
    }
   ],
   "source": [
    "import numpy as np\n",
    "import matplotlib.pyplot as plt\n",
    "\n",
    "plt.figure(figsize=(20,10))\n",
    "labels, values = zip(*sorted(Counter([len(i) for i in text_tokenized]).items())[0:100])\n",
    "# labels, values = zip(*sorted(Counter([len(i) for i in text_tokenized]).items())[0:100])\n",
    "indexes = np.arange(len(labels))\n",
    "width = 1\n",
    "\n",
    "plt.bar(indexes, values, width)\n",
    "plt.xticks(indexes + width * 0.5, labels)\n",
    "plt.title('Sentence length distribution after tokenization')\n",
    "plt.show()"
   ]
  },
  {
   "cell_type": "code",
   "execution_count": 186,
   "metadata": {
    "scrolled": true
   },
   "outputs": [
    {
     "name": "stdout",
     "output_type": "stream",
     "text": [
      "Fitting LDA models with tf features, n_samples=5441195 and n_features=10000...\n"
     ]
    },
    {
     "name": "stderr",
     "output_type": "stream",
     "text": [
      "/anaconda3/lib/python3.6/site-packages/sklearn/decomposition/online_lda.py:294: DeprecationWarning: n_topics has been renamed to n_components in version 0.19 and will be removed in 0.21\n",
      "  DeprecationWarning)\n"
     ]
    },
    {
     "name": "stdout",
     "output_type": "stream",
     "text": [
      "done in 3154.021s.\n",
      "\n",
      "Topics in LDA model:\n",
      "Topic #0:\n"
     ]
    },
    {
     "ename": "TypeError",
     "evalue": "list indices must be integers or slices, not float",
     "output_type": "error",
     "traceback": [
      "\u001b[0;31m---------------------------------------------------------------------------\u001b[0m",
      "\u001b[0;31mTypeError\u001b[0m                                 Traceback (most recent call last)",
      "\u001b[0;32m<ipython-input-186-43caa1f712f9>\u001b[0m in \u001b[0;36m<module>\u001b[0;34m()\u001b[0m\n\u001b[1;32m     31\u001b[0m \u001b[0mprint\u001b[0m\u001b[0;34m(\u001b[0m\u001b[0;34m\"\\nTopics in LDA model:\"\u001b[0m\u001b[0;34m)\u001b[0m\u001b[0;34m\u001b[0m\u001b[0m\n\u001b[1;32m     32\u001b[0m \u001b[0mtf_feature_names\u001b[0m \u001b[0;34m=\u001b[0m \u001b[0mtf_vectorizer\u001b[0m\u001b[0;34m.\u001b[0m\u001b[0mget_feature_names\u001b[0m\u001b[0;34m(\u001b[0m\u001b[0;34m)\u001b[0m\u001b[0;34m\u001b[0m\u001b[0m\n\u001b[0;32m---> 33\u001b[0;31m \u001b[0mprint_top_words\u001b[0m\u001b[0;34m(\u001b[0m\u001b[0mlda\u001b[0m\u001b[0;34m,\u001b[0m \u001b[0mtf_feature_names\u001b[0m\u001b[0;34m,\u001b[0m \u001b[0mn_top_words\u001b[0m\u001b[0;34m)\u001b[0m\u001b[0;34m\u001b[0m\u001b[0m\n\u001b[0m",
      "\u001b[0;32m<ipython-input-186-43caa1f712f9>\u001b[0m in \u001b[0;36mprint_top_words\u001b[0;34m(model, feature_names, n_top_words)\u001b[0m\n\u001b[1;32m     13\u001b[0m     \u001b[0;32mfor\u001b[0m \u001b[0mtopic_idx\u001b[0m\u001b[0;34m,\u001b[0m \u001b[0mtopic\u001b[0m \u001b[0;32min\u001b[0m \u001b[0menumerate\u001b[0m\u001b[0;34m(\u001b[0m\u001b[0mmodel\u001b[0m\u001b[0;34m.\u001b[0m\u001b[0mcomponents_\u001b[0m\u001b[0;34m)\u001b[0m\u001b[0;34m:\u001b[0m\u001b[0;34m\u001b[0m\u001b[0m\n\u001b[1;32m     14\u001b[0m         \u001b[0mprint\u001b[0m\u001b[0;34m(\u001b[0m\u001b[0;34m\"Topic #%d:\"\u001b[0m \u001b[0;34m%\u001b[0m \u001b[0mtopic_idx\u001b[0m\u001b[0;34m)\u001b[0m\u001b[0;34m\u001b[0m\u001b[0m\n\u001b[0;32m---> 15\u001b[0;31m         \u001b[0mprint\u001b[0m\u001b[0;34m(\u001b[0m\u001b[0;34m\" \"\u001b[0m\u001b[0;34m.\u001b[0m\u001b[0mjoin\u001b[0m\u001b[0;34m(\u001b[0m\u001b[0;34m[\u001b[0m\u001b[0mfeature_names\u001b[0m\u001b[0;34m[\u001b[0m\u001b[0mi\u001b[0m\u001b[0;34m]\u001b[0m \u001b[0;32mor\u001b[0m \u001b[0mi\u001b[0m \u001b[0;32min\u001b[0m \u001b[0mtopic\u001b[0m\u001b[0;34m.\u001b[0m\u001b[0margsort\u001b[0m\u001b[0;34m(\u001b[0m\u001b[0;34m)\u001b[0m\u001b[0;34m[\u001b[0m\u001b[0;34m:\u001b[0m\u001b[0;34m-\u001b[0m\u001b[0mn_top_words\u001b[0m \u001b[0;34m-\u001b[0m \u001b[0;36m1\u001b[0m\u001b[0;34m:\u001b[0m\u001b[0;34m-\u001b[0m\u001b[0;36m1\u001b[0m\u001b[0;34m]\u001b[0m\u001b[0;34m]\u001b[0m\u001b[0;34m)\u001b[0m\u001b[0;34m)\u001b[0m\u001b[0;34m\u001b[0m\u001b[0m\n\u001b[0m\u001b[1;32m     16\u001b[0m     \u001b[0mprint\u001b[0m\u001b[0;34m(\u001b[0m\u001b[0;34m)\u001b[0m\u001b[0;34m\u001b[0m\u001b[0m\n\u001b[1;32m     17\u001b[0m \u001b[0;34m\u001b[0m\u001b[0m\n",
      "\u001b[0;31mTypeError\u001b[0m: list indices must be integers or slices, not float"
     ]
    }
   ],
   "source": [
    "from sklearn.feature_extraction.text import CountVectorizer\n",
    "from __future__ import print_function\n",
    "from time import time\n",
    "from sklearn.feature_extraction.text import TfidfVectorizer, CountVectorizer\n",
    "from sklearn.decomposition import LatentDirichletAllocation\n",
    "\n",
    "n_topics = 20\n",
    "n_top_words = 20\n",
    "n_samples = len(text_tokenized)\n",
    "n_features = 10000\n",
    "\n",
    "def print_top_words(model, feature_names, n_top_words):\n",
    "    for topic_idx, topic in enumerate(model.components_):\n",
    "        print(\"Topic #%d:\" % topic_idx)\n",
    "        print(\" \".join([feature_names[i] for i in topic.argsort()[:-n_top_words - 1:-1]]))\n",
    "    print()\n",
    "\n",
    "\n",
    "tf_vectorizer = CountVectorizer(max_df=0.95, min_df=2, max_features=n_features)\n",
    "t0 = time()\n",
    "tf = tf_vectorizer.fit_transform(text_tokenized)\n",
    "\n",
    "print(\"Fitting LDA models with tf features, n_samples=%d and n_features=%d...\"\n",
    "   % (n_samples, n_features))\n",
    "lda = LatentDirichletAllocation(n_topics=n_topics, max_iter=5,\n",
    "                             learning_method='online', learning_offset=50.,\n",
    "                             random_state=0)\n",
    "t0 = time()\n",
    "lda.fit(tf)"
   ]
  },
  {
   "cell_type": "code",
   "execution_count": 208,
   "metadata": {},
   "outputs": [
    {
     "name": "stdout",
     "output_type": "stream",
     "text": [
      "done in 4937.639s.\n",
      "\n",
      "Topics in LDA model:\n",
      "Topic #0:\n",
      "think tonight ny right big lake school hot high at now win fl west dinner art red damn pic turn\n",
      "Topic #1:\n",
      "good amp love have look to need friend go run long amazing drive they road change co hear sunset tho\n",
      "Topic #2:\n",
      "be portland birthday girl not feel block say bad he wish she help would pa lose event crazy woman face\n",
      "Topic #3:\n",
      "be come ca san little check game make what airport video francisco international father hard finally dad lunch friday movie\n",
      "Topic #4:\n",
      "happy man see let police ave party kid se close up yesterday grill line excited rd dude gresham medical dr\n",
      "Topic #5:\n",
      "st or of old california los angeles enjoy end north ne mom car hollywood kill report your graffiti museum request\n",
      "Topic #6:\n",
      "be not great world start fuck baby sleep pretty eat hate how mean church saturday give celebrate month back hang\n",
      "Topic #7:\n",
      "today no mph wind rain humidity gt temperature fall 000 barometer food pressure rise weather 20 steady cloudy 12 00\n",
      "Topic #8:\n",
      "watch wait take tomorrow weekend pm 10 hair yeah here accident case pick use ball min second delay disney warning\n",
      "Topic #9:\n",
      "get new park york oh on one god follow out national coffee ya nigga las soon ok tour proud guess\n",
      "Topic #10:\n",
      "be go not know night you people and center when me time wanna walk but happen first sure job last\n",
      "Topic #11:\n",
      "the just post home photo ready bar la head awesome lot hit because restaurant hotel perfect stadium east bridge mind\n",
      "Topic #12:\n",
      "day like house thing state club hope chicago stay dog downtown nyc early pool tweet university bed sister dallas sun\n",
      "Topic #13:\n",
      "not drink will year stop live play free beer white black island light water ipa camp texas ale believe houston\n",
      "Topic #14:\n",
      "be time it work want fun favorite hour music sunday yes picture with view rt nothing bring late lady there\n",
      "Topic #15:\n",
      "beach life city morning beautiful place family nice county show room market shop company nc traffic grand lounge chicken hop\n",
      "Topic #16:\n",
      "my so miss summer week 2015 tx leave all talk vegas call ask why blue money ur super hold thunderstorm\n",
      "Topic #17:\n",
      "try if find tell for fire june south point care set sw green 100 rn stuff story fort fresh near\n",
      "Topic #18:\n",
      "thank this lol not in way never real can boy bitch rock person sweet monday who break phone bro text\n",
      "Topic #19:\n",
      "we do shit open guy that street cool ass team meet river our class iphone trip bay ride dream 15\n",
      "\n"
     ]
    }
   ],
   "source": [
    "print(\"done in %0.3fs.\" % (time() - t0))\n",
    "print(\"\\nTopics in LDA model:\")\n",
    "tf_feature_names = tf_vectorizer.get_feature_names()\n",
    "print_top_words(lda, tf_feature_names, n_top_words)"
   ]
  }
 ],
 "metadata": {
  "kernelspec": {
   "display_name": "Python 3",
   "language": "python",
   "name": "python3"
  },
  "language_info": {
   "codemirror_mode": {
    "name": "ipython",
    "version": 3
   },
   "file_extension": ".py",
   "mimetype": "text/x-python",
   "name": "python",
   "nbconvert_exporter": "python",
   "pygments_lexer": "ipython3",
   "version": "3.6.3"
  }
 },
 "nbformat": 4,
 "nbformat_minor": 2
}
