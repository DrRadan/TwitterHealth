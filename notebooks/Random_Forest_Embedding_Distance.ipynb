{
 "cells": [
  {
   "cell_type": "code",
   "execution_count": 3,
   "metadata": {
    "collapsed": true
   },
   "outputs": [],
   "source": [
    "import pandas as pd\n",
    "from collections import Counter\n",
    "import pickle as pkl\n",
    "import os\n",
    "import time\n",
    "import matplotlib.pyplot as plt\n",
    "from sklearn.metrics import confusion_matrix\n",
    "import scipy.stats as stats"
   ]
  },
  {
   "cell_type": "markdown",
   "metadata": {},
   "source": [
    "## Load Data\n",
    "delete short sentences"
   ]
  },
  {
   "cell_type": "code",
   "execution_count": 2,
   "metadata": {
    "collapsed": true
   },
   "outputs": [],
   "source": [
    "header = ['ID', 'timestamp', 'Day_of_Week', 'State', 'Tweet', 'mentioned_food',\n",
    "         'mentioned_activity', 'target', 'distance_1_food','distance_1_activity',\n",
    "          'distance_2_food','distance_2_activity','distance_3_food','distance_3_activity',\n",
    "          'distance_4_food','distance_4_activity']\n",
    "df1 = pd.read_csv(\"./2015-06.csv\",index_col=False, header=None, names=header)\n",
    "df2 = pd.read_csv(\"./2015-11.csv\",index_col=False, header=None, names=header)\n",
    "df = pd.concat((df1,df2),axis=0)"
   ]
  },
  {
   "cell_type": "code",
   "execution_count": 11,
   "metadata": {
    "collapsed": true
   },
   "outputs": [],
   "source": [
    "lst = []\n",
    "for i,sentence in enumerate(df['Tweet']):\n",
    "    try:\n",
    "        if len(sentence.split(' ')) > 4:\n",
    "            lst.append(i)\n",
    "    except:\n",
    "        continue\n",
    "df = df.iloc[lst]"
   ]
  },
  {
   "cell_type": "code",
   "execution_count": 3,
   "metadata": {},
   "outputs": [
    {
     "name": "stdout",
     "output_type": "stream",
     "text": [
      "(7316773, 16)\n"
     ]
    },
    {
     "data": {
      "text/html": [
       "<div>\n",
       "<style>\n",
       "    .dataframe thead tr:only-child th {\n",
       "        text-align: right;\n",
       "    }\n",
       "\n",
       "    .dataframe thead th {\n",
       "        text-align: left;\n",
       "    }\n",
       "\n",
       "    .dataframe tbody tr th {\n",
       "        vertical-align: top;\n",
       "    }\n",
       "</style>\n",
       "<table border=\"1\" class=\"dataframe\">\n",
       "  <thead>\n",
       "    <tr style=\"text-align: right;\">\n",
       "      <th></th>\n",
       "      <th>ID</th>\n",
       "      <th>timestamp</th>\n",
       "      <th>Day_of_Week</th>\n",
       "      <th>State</th>\n",
       "      <th>Tweet</th>\n",
       "      <th>mentioned_food</th>\n",
       "      <th>mentioned_activity</th>\n",
       "      <th>target</th>\n",
       "      <th>distance_1_food</th>\n",
       "      <th>distance_1_activity</th>\n",
       "      <th>distance_2_food</th>\n",
       "      <th>distance_2_activity</th>\n",
       "      <th>distance_3_food</th>\n",
       "      <th>distance_3_activity</th>\n",
       "      <th>distance_4_food</th>\n",
       "      <th>distance_4_activity</th>\n",
       "    </tr>\n",
       "  </thead>\n",
       "  <tbody>\n",
       "    <tr>\n",
       "      <th>0</th>\n",
       "      <td>605161837743755264</td>\n",
       "      <td>1.433131e+09</td>\n",
       "      <td>Monday</td>\n",
       "      <td>1</td>\n",
       "      <td>wind 00 mph barometer 3007 rise temperature 69...</td>\n",
       "      <td>NaN</td>\n",
       "      <td>NaN</td>\n",
       "      <td>0</td>\n",
       "      <td>4.908694</td>\n",
       "      <td>4.203416</td>\n",
       "      <td>6.523432</td>\n",
       "      <td>5.319320</td>\n",
       "      <td>5.730753</td>\n",
       "      <td>5.727139</td>\n",
       "      <td>5.730753</td>\n",
       "      <td>5.585906</td>\n",
       "    </tr>\n",
       "    <tr>\n",
       "      <th>1</th>\n",
       "      <td>605161838318370816</td>\n",
       "      <td>1.433131e+09</td>\n",
       "      <td>Monday</td>\n",
       "      <td>47</td>\n",
       "      <td>great group guy celebrate wonderful marriage c...</td>\n",
       "      <td>NaN</td>\n",
       "      <td>NaN</td>\n",
       "      <td>0</td>\n",
       "      <td>3.742134</td>\n",
       "      <td>2.865506</td>\n",
       "      <td>5.024673</td>\n",
       "      <td>4.983678</td>\n",
       "      <td>5.742434</td>\n",
       "      <td>5.486623</td>\n",
       "      <td>5.742434</td>\n",
       "      <td>5.047871</td>\n",
       "    </tr>\n",
       "    <tr>\n",
       "      <th>2</th>\n",
       "      <td>605161839165599744</td>\n",
       "      <td>1.433131e+09</td>\n",
       "      <td>Monday</td>\n",
       "      <td>54</td>\n",
       "      <td>i push acre i moment</td>\n",
       "      <td>NaN</td>\n",
       "      <td>NaN</td>\n",
       "      <td>0</td>\n",
       "      <td>3.879306</td>\n",
       "      <td>2.970662</td>\n",
       "      <td>5.109738</td>\n",
       "      <td>5.038453</td>\n",
       "      <td>6.311631</td>\n",
       "      <td>5.882600</td>\n",
       "      <td>5.815228</td>\n",
       "      <td>5.603898</td>\n",
       "    </tr>\n",
       "    <tr>\n",
       "      <th>3</th>\n",
       "      <td>605161840193204224</td>\n",
       "      <td>1.433131e+09</td>\n",
       "      <td>Monday</td>\n",
       "      <td>12</td>\n",
       "      <td>temp 847  f  humidity 77  wind sse 31 mph  bar...</td>\n",
       "      <td>NaN</td>\n",
       "      <td>NaN</td>\n",
       "      <td>0</td>\n",
       "      <td>5.641654</td>\n",
       "      <td>5.089753</td>\n",
       "      <td>7.516935</td>\n",
       "      <td>6.076470</td>\n",
       "      <td>7.589442</td>\n",
       "      <td>6.342270</td>\n",
       "      <td>6.915214</td>\n",
       "      <td>6.342270</td>\n",
       "    </tr>\n",
       "    <tr>\n",
       "      <th>4</th>\n",
       "      <td>605161841879330817</td>\n",
       "      <td>1.433131e+09</td>\n",
       "      <td>Monday</td>\n",
       "      <td>10</td>\n",
       "      <td>temp 831f wc 831f wind 42 mph s gust 100 mph b...</td>\n",
       "      <td>NaN</td>\n",
       "      <td>NaN</td>\n",
       "      <td>0</td>\n",
       "      <td>4.061290</td>\n",
       "      <td>3.421374</td>\n",
       "      <td>6.292171</td>\n",
       "      <td>4.948800</td>\n",
       "      <td>6.131165</td>\n",
       "      <td>5.727139</td>\n",
       "      <td>5.581165</td>\n",
       "      <td>5.678833</td>\n",
       "    </tr>\n",
       "  </tbody>\n",
       "</table>\n",
       "</div>"
      ],
      "text/plain": [
       "                   ID     timestamp Day_of_Week  State  \\\n",
       "0  605161837743755264  1.433131e+09      Monday      1   \n",
       "1  605161838318370816  1.433131e+09      Monday     47   \n",
       "2  605161839165599744  1.433131e+09      Monday     54   \n",
       "3  605161840193204224  1.433131e+09      Monday     12   \n",
       "4  605161841879330817  1.433131e+09      Monday     10   \n",
       "\n",
       "                                               Tweet mentioned_food  \\\n",
       "0  wind 00 mph barometer 3007 rise temperature 69...            NaN   \n",
       "1  great group guy celebrate wonderful marriage c...            NaN   \n",
       "2                               i push acre i moment            NaN   \n",
       "3  temp 847  f  humidity 77  wind sse 31 mph  bar...            NaN   \n",
       "4  temp 831f wc 831f wind 42 mph s gust 100 mph b...            NaN   \n",
       "\n",
       "  mentioned_activity  target  distance_1_food  distance_1_activity  \\\n",
       "0                NaN       0         4.908694             4.203416   \n",
       "1                NaN       0         3.742134             2.865506   \n",
       "2                NaN       0         3.879306             2.970662   \n",
       "3                NaN       0         5.641654             5.089753   \n",
       "4                NaN       0         4.061290             3.421374   \n",
       "\n",
       "   distance_2_food  distance_2_activity  distance_3_food  distance_3_activity  \\\n",
       "0         6.523432             5.319320         5.730753             5.727139   \n",
       "1         5.024673             4.983678         5.742434             5.486623   \n",
       "2         5.109738             5.038453         6.311631             5.882600   \n",
       "3         7.516935             6.076470         7.589442             6.342270   \n",
       "4         6.292171             4.948800         6.131165             5.727139   \n",
       "\n",
       "   distance_4_food  distance_4_activity  \n",
       "0         5.730753             5.585906  \n",
       "1         5.742434             5.047871  \n",
       "2         5.815228             5.603898  \n",
       "3         6.915214             6.342270  \n",
       "4         5.581165             5.678833  "
      ]
     },
     "execution_count": 3,
     "metadata": {},
     "output_type": "execute_result"
    }
   ],
   "source": [
    "with open('./df_distance.pickle','rb') as input_file:\n",
    "    df = pkl.load(input_file)\n",
    "print(df.shape)\n",
    "df.head()"
   ]
  },
  {
   "cell_type": "code",
   "execution_count": 25,
   "metadata": {},
   "outputs": [
    {
     "data": {
      "text/plain": [
       "{0, 1, 2, 3}"
      ]
     },
     "execution_count": 25,
     "metadata": {},
     "output_type": "execute_result"
    }
   ],
   "source": [
    "set(df['target'])"
   ]
  },
  {
   "cell_type": "code",
   "execution_count": 138,
   "metadata": {
    "collapsed": true
   },
   "outputs": [],
   "source": [
    "pkl.dump(df, open('df_distance.pickle','wb'))"
   ]
  },
  {
   "cell_type": "code",
   "execution_count": 5,
   "metadata": {},
   "outputs": [],
   "source": [
    "with open('df_distance.pickle','rb') as input_file:\n",
    "    df = pkl.load(input_file)"
   ]
  },
  {
   "cell_type": "markdown",
   "metadata": {},
   "source": [
    "## Functions"
   ]
  },
  {
   "cell_type": "code",
   "execution_count": 6,
   "metadata": {
    "collapsed": true
   },
   "outputs": [],
   "source": [
    "def feed_lda(num_topics,max_features,max_df,df):\n",
    "    # load tf_vectorizer and lda model\n",
    "    tf_path = 'data/tfVectorizer_topics={}_maxFeatures={}_maxDf={}_minDf=1.pickle'.format(num_topics,max_features,max_df)\n",
    "    lda_path = 'data/LDA_topics={}_maxFeatures={}_maxDf={}_minDf=1.pickle'.format(num_topics,max_features,max_df)\n",
    "    name = \"topics={}_maxFeatures={}_maxDf={}\".format(num_topics,max_features,max_df)\n",
    "    if (os.path.exists(tf_path)) & ( os.path.exists(lda_path)):\n",
    "        with open(tf_path,'rb') as input_file:\n",
    "            tf_vectorizer = pkl.load(input_file)\n",
    "        with open(lda_path, \"rb\") as input_file:\n",
    "            lda = pkl.load(input_file)\n",
    "            \n",
    "    # predicts probs of text using lda\n",
    "    start = time.time()\n",
    "    probs = lda.transform(tf_vectorizer.transform(df['Tweet'].tolist()))\n",
    "    X = pd.concat((df,pd.DataFrame(probs)),axis=1)\n",
    "    \n",
    "    return probs, X['target']"
   ]
  },
  {
   "cell_type": "code",
   "execution_count": 111,
   "metadata": {
    "collapsed": true
   },
   "outputs": [],
   "source": [
    "def plot_distance(name,distance_1,distance_2,distance_3,distance_4,probabilities,step=100000):\n",
    "    plt.close('all')\n",
    "    fig, ax1 = plt.subplots()\n",
    "    ax1.set_xlabel('sample')\n",
    "    ax1.set_ylabel('distance')\n",
    "    ax2 = ax1.twinx()\n",
    "    ax2.set_ylim([0,1])\n",
    "    ax2.set_ylabel('probabilities')\n",
    "    \n",
    "    d1, d2, d3, d4, p = [], [], [], [], []\n",
    "    for i in range(0,len(probabilities),step):\n",
    "        d1.append(distance_1[i])\n",
    "        d2.append(distance_2[i])\n",
    "        d3.append(distance_3[i])\n",
    "        d4.append(distance_4[i])\n",
    "        p.append(probabilities[i])\n",
    "        \n",
    "    ax1.plot(d1,label='d1',color='deepskyblue')\n",
    "    ax1.plot(d2,label='d2',color='skyblue')\n",
    "    ax1.plot(d3,label='d3',color='lightskyblue')\n",
    "    ax1.plot(d4,label='d4',color='blue')\n",
    "    ax2.plot(p,label='probs',color='red')\n",
    "    ax1.legend()\n",
    "    ax2.legend()\n",
    "    fig.tight_layout()\n",
    "    plt.title(name)\n",
    "    plt.savefig(name+'.png')\n",
    "    plt.show()"
   ]
  },
  {
   "cell_type": "code",
   "execution_count": 112,
   "metadata": {
    "collapsed": true
   },
   "outputs": [],
   "source": [
    "def plot_probs(name,distance_1,distance_2,distance_3,distance_4,probabilities,step=100000):\n",
    "    plt.close('all')\n",
    "    plt.xlabel('probabilities')\n",
    "    plt.ylabel('distance')    \n",
    "    \n",
    "    d1, d2, d3, d4, p = [], [], [], [], []\n",
    "    for i in range(0,len(probabilities),step):\n",
    "        d1.append(distance_1[i])\n",
    "        d2.append(distance_2[i])\n",
    "        d3.append(distance_3[i])\n",
    "        d4.append(distance_4[i])\n",
    "        p.append(probabilities[i])\n",
    "        \n",
    "    plt.plot(p,d1,label='d1',color='deepskyblue')\n",
    "    plt.plot(p,d2,label='d2',color='skyblue')\n",
    "    plt.plot(p,d3,label='d3',color='lightskyblue')\n",
    "    plt.plot(p,d4,label='d4',color='blue')\n",
    "    plt.legend()\n",
    "    plt.title(name)\n",
    "    plt.savefig(name+'.png')\n",
    "    plt.show()"
   ]
  },
  {
   "cell_type": "markdown",
   "metadata": {},
   "source": [
    "## Food"
   ]
  },
  {
   "cell_type": "markdown",
   "metadata": {},
   "source": [
    "### data"
   ]
  },
  {
   "cell_type": "code",
   "execution_count": 13,
   "metadata": {},
   "outputs": [
    {
     "data": {
      "text/plain": [
       "Counter({0: 6855838, 1: 460935})"
      ]
     },
     "execution_count": 13,
     "metadata": {},
     "output_type": "execute_result"
    }
   ],
   "source": [
    "df1 = df.replace(3,1).replace(2,0).reset_index(drop=True)\n",
    "Counter(df1['target'])"
   ]
  },
  {
   "cell_type": "markdown",
   "metadata": {},
   "source": [
    "### model"
   ]
  },
  {
   "cell_type": "code",
   "execution_count": 9,
   "metadata": {},
   "outputs": [
    {
     "name": "stdout",
     "output_type": "stream",
     "text": [
      "[0 1]\n"
     ]
    },
    {
     "data": {
      "text/plain": [
       "RandomForestClassifier(bootstrap=True, class_weight=None, criterion='gini',\n",
       "            max_depth=90, max_features=100, max_leaf_nodes=None,\n",
       "            min_impurity_decrease=0.0, min_impurity_split=None,\n",
       "            min_samples_leaf=2, min_samples_split=10,\n",
       "            min_weight_fraction_leaf=0.0, n_estimators=100, n_jobs=-1,\n",
       "            oob_score=False, random_state=None, verbose=0,\n",
       "            warm_start=False)"
      ]
     },
     "execution_count": 9,
     "metadata": {},
     "output_type": "execute_result"
    }
   ],
   "source": [
    "with open('./best_model_food.pickle','rb') as input_file:\n",
    "    model_food = pkl.load(input_file)\n",
    "print(model_food.classes_)\n",
    "model_food"
   ]
  },
  {
   "cell_type": "markdown",
   "metadata": {},
   "source": [
    "### lda results   \n",
    "y_true: true class"
   ]
  },
  {
   "cell_type": "code",
   "execution_count": 14,
   "metadata": {},
   "outputs": [
    {
     "name": "stdout",
     "output_type": "stream",
     "text": [
      "CPU times: user 10min 25s, sys: 1min 26s, total: 11min 52s\n",
      "Wall time: 12min 2s\n"
     ]
    }
   ],
   "source": [
    "%%time\n",
    "X1, y1_true = feed_lda(125, 25000, 0.5, df1)"
   ]
  },
  {
   "cell_type": "code",
   "execution_count": 15,
   "metadata": {},
   "outputs": [
    {
     "data": {
      "text/plain": [
       "{0, 1}"
      ]
     },
     "execution_count": 15,
     "metadata": {},
     "output_type": "execute_result"
    }
   ],
   "source": [
    "set(y1_true)"
   ]
  },
  {
   "cell_type": "markdown",
   "metadata": {},
   "source": [
    "### rf predicted results  \n",
    "y: probabilities of all classes  \n",
    "y_probs: probabilities of food/activity   "
   ]
  },
  {
   "cell_type": "code",
   "execution_count": 16,
   "metadata": {},
   "outputs": [
    {
     "name": "stdout",
     "output_type": "stream",
     "text": [
      "CPU times: user 7min 52s, sys: 14.9 s, total: 8min 7s\n",
      "Wall time: 1min 15s\n"
     ]
    }
   ],
   "source": [
    "%%time\n",
    "y1 = model_food.predict_proba(X1)\n",
    "y1_probs = [y[1] for y in y1]"
   ]
  },
  {
   "cell_type": "markdown",
   "metadata": {},
   "source": [
    "y_preds: predicted class"
   ]
  },
  {
   "cell_type": "code",
   "execution_count": 17,
   "metadata": {},
   "outputs": [
    {
     "name": "stdout",
     "output_type": "stream",
     "text": [
      "CPU times: user 7min 34s, sys: 16.1 s, total: 7min 50s\n",
      "Wall time: 1min 12s\n"
     ]
    }
   ],
   "source": [
    "%%time\n",
    "y1_preds = model_food.predict(X1)"
   ]
  },
  {
   "cell_type": "markdown",
   "metadata": {},
   "source": [
    "accuracy"
   ]
  },
  {
   "cell_type": "code",
   "execution_count": 18,
   "metadata": {},
   "outputs": [
    {
     "data": {
      "text/plain": [
       "0.7702656621983489"
      ]
     },
     "execution_count": 18,
     "metadata": {},
     "output_type": "execute_result"
    }
   ],
   "source": [
    "sum(y1_preds==y1_true)/len(y1_true)"
   ]
  },
  {
   "cell_type": "markdown",
   "metadata": {},
   "source": [
    "### confusion matrix"
   ]
  },
  {
   "cell_type": "code",
   "execution_count": 19,
   "metadata": {},
   "outputs": [
    {
     "data": {
      "text/plain": [
       "array([[5226581, 1629257],\n",
       "       [  51657,  409278]])"
      ]
     },
     "execution_count": 19,
     "metadata": {},
     "output_type": "execute_result"
    }
   ],
   "source": [
    "# confusion matrix\n",
    "conf_mat1 = confusion_matrix(y1_true, y1_preds)\n",
    "conf_mat1\n",
    "# TN FP\n",
    "# FN TP"
   ]
  },
  {
   "cell_type": "code",
   "execution_count": 90,
   "metadata": {
    "collapsed": true
   },
   "outputs": [],
   "source": [
    "TN, FP, FN, TP = [], [], [], []\n",
    "n = 1000\n",
    "for i in range(len(y1_true)):\n",
    "    if y1_true[i]==0 and y1_preds[i]==0 and len(TN)<n:\n",
    "        TN.append(df1['Tweet'][i])\n",
    "    elif y1_true[i]==0 and y1_preds[i]==1 and len(FP)<n:\n",
    "        FP.append(df1['Tweet'][i])\n",
    "    elif y1_true[i]==1 and y1_preds[i]==0 and len(FN)<n:\n",
    "        FN.append(df1['Tweet'][i])\n",
    "    elif y1_true[i]==1 and y1_preds[i]==1 and len(TP)<n:\n",
    "        TP.append(df1['Tweet'][i])\n",
    "    if len(TN)>= n and len(FP)>=n and len(FN)>=n and len(TP)>=n:\n",
    "        break"
   ]
  },
  {
   "cell_type": "code",
   "execution_count": 107,
   "metadata": {},
   "outputs": [
    {
     "data": {
      "text/plain": [
       "['temperature 49  f gt 48  f humidity 61 gt 80 wind 7 mph gt 5 mph pressure 3003 fall',\n",
       " 'wind 40 mph sse barometer 30026 fall temperature 586  f rain today 000 humidity 60',\n",
       " 'wind 00 mph barometer 101819 mb rise temperature 448  f rain today 000 humidity 98',\n",
       " '648f feel 648f humidity 99 wind 54 mph e gust 69 mph pressure 10141 mb rain 038',\n",
       " 'wind 00 mph w barometer 29957 fall slowly temperature 639  f rain today 000 humidity 92',\n",
       " 'wind 40 mph s barometer 30032 fall temperature 585  f rain today 000 humidity 60',\n",
       " 'temp 340  f gust 18 mph gust direction se cloud base 8386 ft pressure 2972inhg rainfall rate 000in hr rain today 000',\n",
       " 'temperature 72  f gt 63  f humidity 55 gt 58 wind 0 mph gt 3 mph',\n",
       " 'temperature 83  f gt 67  f humidity 23 gt 33 pressure 3002 fall',\n",
       " 'temperature 53  f gt 51  f wind 6 mph gt 12 mph pressure 2975 rise']"
      ]
     },
     "execution_count": 107,
     "metadata": {},
     "output_type": "execute_result"
    }
   ],
   "source": [
    "FP[:10]"
   ]
  },
  {
   "cell_type": "markdown",
   "metadata": {},
   "source": [
    "Increase the threshold to 0.8"
   ]
  },
  {
   "cell_type": "code",
   "execution_count": 20,
   "metadata": {},
   "outputs": [
    {
     "data": {
      "text/plain": [
       "array([[6516375,  339463],\n",
       "       [ 213070,  247865]])"
      ]
     },
     "execution_count": 20,
     "metadata": {},
     "output_type": "execute_result"
    }
   ],
   "source": [
    "y1_preds_new = [1 if y1_probs[i]>0.8 else 0 for i in range(len(y1_probs))]\n",
    "conf_mat1_new = confusion_matrix(y1_true, y1_preds_new)\n",
    "conf_mat1_new"
   ]
  },
  {
   "cell_type": "code",
   "execution_count": 21,
   "metadata": {},
   "outputs": [
    {
     "data": {
      "text/plain": [
       "0.9244840587510368"
      ]
     },
     "execution_count": 21,
     "metadata": {},
     "output_type": "execute_result"
    }
   ],
   "source": [
    "#acc\n",
    "sum(y1_preds_new==y1_true)/len(y1_true)"
   ]
  },
  {
   "cell_type": "code",
   "execution_count": 91,
   "metadata": {
    "collapsed": true
   },
   "outputs": [],
   "source": [
    "TN_new, FP_new, FN_new, TP_new = [], [], [], []\n",
    "n = 1000\n",
    "for i in range(len(y1_true)):\n",
    "    if y1_true[i]==0 and y1_preds_new[i]==0 and len(TN_new)<n:\n",
    "        TN_new.append(df1['Tweet'][i])\n",
    "    elif y1_true[i]==0 and y1_preds_new[i]==1 and len(FP_new)<n:\n",
    "        FP_new.append(df1['Tweet'][i])\n",
    "    elif y1_true[i]==1 and y1_preds_new[i]==0 and len(FN_new)<n:\n",
    "        FN_new.append(df1['Tweet'][i])\n",
    "    elif y1_true[i]==1 and y1_preds_new[i]==1 and len(TP_new)<n:\n",
    "        TP_new.append(df1['Tweet'][i])\n",
    "    if len(TN_new)>= n and len(FP_new)>=n and len(FN_new)>=n and len(TP_new)>=n:\n",
    "        break"
   ]
  },
  {
   "cell_type": "code",
   "execution_count": 108,
   "metadata": {},
   "outputs": [
    {
     "data": {
      "text/plain": [
       "['wind 00 mph barometer 101819 mb rise temperature 448  f rain today 000 humidity 98',\n",
       " 'temp 340  f gust 18 mph gust direction se cloud base 8386 ft pressure 2972inhg rainfall rate 000in hr rain today 000',\n",
       " 'temperature 53  f gt 51  f wind 6 mph gt 12 mph pressure 2975 rise',\n",
       " 'cloudy gt cloudy temperature 54  f gt 56  f humidity 97 gt 90 wind 0 mph gt 8 mph',\n",
       " 'temp 660  f wind00 mph pressure 29908hpa steady rain today 002',\n",
       " 'temperature 77  f gt 64  f humidity 22 gt 34 wind 3 mph gt 0 mph',\n",
       " 'temperature 74  f gt 64  f humidity 64 gt 56 wind 6 mph gt 0 mph',\n",
       " 'cloudy gt shower temperature 56  f gt 57  f humidity 90 gt 100 wind 6 mph gt 3 mph visibility 10mi gt 4mi',\n",
       " 'partly cloudy gt fair temperature 47  f gt 45  f humidity 86 gt 90 wind 13 mph gt 12 mph visibility 10mi gt 9mi',\n",
       " 'wind 00 mph wnw barometer 29945 fall slowly temperature 638  f rain today 000 humidity 92']"
      ]
     },
     "execution_count": 108,
     "metadata": {},
     "output_type": "execute_result"
    }
   ],
   "source": [
    "FP_new[:10]"
   ]
  },
  {
   "cell_type": "code",
   "execution_count": 22,
   "metadata": {},
   "outputs": [
    {
     "data": {
      "text/html": [
       "<div>\n",
       "<style>\n",
       "    .dataframe thead tr:only-child th {\n",
       "        text-align: right;\n",
       "    }\n",
       "\n",
       "    .dataframe thead th {\n",
       "        text-align: left;\n",
       "    }\n",
       "\n",
       "    .dataframe tbody tr th {\n",
       "        vertical-align: top;\n",
       "    }\n",
       "</style>\n",
       "<table border=\"1\" class=\"dataframe\">\n",
       "  <thead>\n",
       "    <tr style=\"text-align: right;\">\n",
       "      <th></th>\n",
       "      <th>ID</th>\n",
       "      <th>timestamp</th>\n",
       "      <th>Day_of_Week</th>\n",
       "      <th>State</th>\n",
       "      <th>Tweet</th>\n",
       "      <th>mentioned_food</th>\n",
       "      <th>mentioned_activity</th>\n",
       "      <th>target</th>\n",
       "      <th>distance_1_food</th>\n",
       "      <th>distance_1_activity</th>\n",
       "      <th>distance_2_food</th>\n",
       "      <th>distance_2_activity</th>\n",
       "      <th>distance_3_food</th>\n",
       "      <th>distance_3_activity</th>\n",
       "      <th>distance_4_food</th>\n",
       "      <th>distance_4_activity</th>\n",
       "      <th>probs_food</th>\n",
       "      <th>preds_food</th>\n",
       "      <th>true_food</th>\n",
       "    </tr>\n",
       "  </thead>\n",
       "  <tbody>\n",
       "    <tr>\n",
       "      <th>0</th>\n",
       "      <td>605161837743755264</td>\n",
       "      <td>1.433131e+09</td>\n",
       "      <td>Monday</td>\n",
       "      <td>1</td>\n",
       "      <td>wind 00 mph barometer 3007 rise temperature 69...</td>\n",
       "      <td>NaN</td>\n",
       "      <td>NaN</td>\n",
       "      <td>0</td>\n",
       "      <td>4.908694</td>\n",
       "      <td>4.203416</td>\n",
       "      <td>6.523432</td>\n",
       "      <td>5.319320</td>\n",
       "      <td>5.730753</td>\n",
       "      <td>5.727139</td>\n",
       "      <td>5.730753</td>\n",
       "      <td>5.585906</td>\n",
       "      <td>0.0</td>\n",
       "      <td>0</td>\n",
       "      <td>0</td>\n",
       "    </tr>\n",
       "    <tr>\n",
       "      <th>1</th>\n",
       "      <td>660744342248759296</td>\n",
       "      <td>1.446387e+09</td>\n",
       "      <td>Sunday</td>\n",
       "      <td>25</td>\n",
       "      <td>temperature 49  f gt 48  f humidity 61 gt 80 w...</td>\n",
       "      <td>NaN</td>\n",
       "      <td>NaN</td>\n",
       "      <td>0</td>\n",
       "      <td>4.590727</td>\n",
       "      <td>3.755841</td>\n",
       "      <td>6.497299</td>\n",
       "      <td>5.255440</td>\n",
       "      <td>6.467789</td>\n",
       "      <td>5.927032</td>\n",
       "      <td>6.467789</td>\n",
       "      <td>5.145692</td>\n",
       "      <td>0.0</td>\n",
       "      <td>0</td>\n",
       "      <td>0</td>\n",
       "    </tr>\n",
       "    <tr>\n",
       "      <th>2</th>\n",
       "      <td>660744338008203264</td>\n",
       "      <td>1.446387e+09</td>\n",
       "      <td>Sunday</td>\n",
       "      <td>6</td>\n",
       "      <td>wind 40 mph sse barometer 30026 fall temperatu...</td>\n",
       "      <td>NaN</td>\n",
       "      <td>NaN</td>\n",
       "      <td>0</td>\n",
       "      <td>4.863321</td>\n",
       "      <td>4.138520</td>\n",
       "      <td>6.592575</td>\n",
       "      <td>5.362590</td>\n",
       "      <td>5.730753</td>\n",
       "      <td>6.178299</td>\n",
       "      <td>5.730753</td>\n",
       "      <td>5.145692</td>\n",
       "      <td>0.0</td>\n",
       "      <td>0</td>\n",
       "      <td>0</td>\n",
       "    </tr>\n",
       "    <tr>\n",
       "      <th>3</th>\n",
       "      <td>660744279682338816</td>\n",
       "      <td>1.446387e+09</td>\n",
       "      <td>Sunday</td>\n",
       "      <td>48</td>\n",
       "      <td>temperature 60  f gt 58  f humidity 83 gt 85 w...</td>\n",
       "      <td>NaN</td>\n",
       "      <td>NaN</td>\n",
       "      <td>0</td>\n",
       "      <td>4.586811</td>\n",
       "      <td>3.805616</td>\n",
       "      <td>6.521957</td>\n",
       "      <td>5.222861</td>\n",
       "      <td>6.616901</td>\n",
       "      <td>5.727139</td>\n",
       "      <td>6.365636</td>\n",
       "      <td>5.727139</td>\n",
       "      <td>0.0</td>\n",
       "      <td>0</td>\n",
       "      <td>0</td>\n",
       "    </tr>\n",
       "    <tr>\n",
       "      <th>4</th>\n",
       "      <td>660744267078348800</td>\n",
       "      <td>1.446387e+09</td>\n",
       "      <td>Sunday</td>\n",
       "      <td>30</td>\n",
       "      <td>temp 530  f lo temp 496 wind153 mph maxgust wi...</td>\n",
       "      <td>NaN</td>\n",
       "      <td>NaN</td>\n",
       "      <td>0</td>\n",
       "      <td>4.409149</td>\n",
       "      <td>3.715347</td>\n",
       "      <td>6.604475</td>\n",
       "      <td>4.930043</td>\n",
       "      <td>6.616901</td>\n",
       "      <td>5.727139</td>\n",
       "      <td>6.365636</td>\n",
       "      <td>5.727139</td>\n",
       "      <td>0.0</td>\n",
       "      <td>0</td>\n",
       "      <td>0</td>\n",
       "    </tr>\n",
       "  </tbody>\n",
       "</table>\n",
       "</div>"
      ],
      "text/plain": [
       "                   ID     timestamp Day_of_Week  State  \\\n",
       "0  605161837743755264  1.433131e+09      Monday      1   \n",
       "1  660744342248759296  1.446387e+09      Sunday     25   \n",
       "2  660744338008203264  1.446387e+09      Sunday      6   \n",
       "3  660744279682338816  1.446387e+09      Sunday     48   \n",
       "4  660744267078348800  1.446387e+09      Sunday     30   \n",
       "\n",
       "                                               Tweet mentioned_food  \\\n",
       "0  wind 00 mph barometer 3007 rise temperature 69...            NaN   \n",
       "1  temperature 49  f gt 48  f humidity 61 gt 80 w...            NaN   \n",
       "2  wind 40 mph sse barometer 30026 fall temperatu...            NaN   \n",
       "3  temperature 60  f gt 58  f humidity 83 gt 85 w...            NaN   \n",
       "4  temp 530  f lo temp 496 wind153 mph maxgust wi...            NaN   \n",
       "\n",
       "  mentioned_activity  target  distance_1_food  distance_1_activity  \\\n",
       "0                NaN       0         4.908694             4.203416   \n",
       "1                NaN       0         4.590727             3.755841   \n",
       "2                NaN       0         4.863321             4.138520   \n",
       "3                NaN       0         4.586811             3.805616   \n",
       "4                NaN       0         4.409149             3.715347   \n",
       "\n",
       "   distance_2_food  distance_2_activity  distance_3_food  distance_3_activity  \\\n",
       "0         6.523432             5.319320         5.730753             5.727139   \n",
       "1         6.497299             5.255440         6.467789             5.927032   \n",
       "2         6.592575             5.362590         5.730753             6.178299   \n",
       "3         6.521957             5.222861         6.616901             5.727139   \n",
       "4         6.604475             4.930043         6.616901             5.727139   \n",
       "\n",
       "   distance_4_food  distance_4_activity  probs_food  preds_food  true_food  \n",
       "0         5.730753             5.585906         0.0           0          0  \n",
       "1         6.467789             5.145692         0.0           0          0  \n",
       "2         5.730753             5.145692         0.0           0          0  \n",
       "3         6.365636             5.727139         0.0           0          0  \n",
       "4         6.365636             5.727139         0.0           0          0  "
      ]
     },
     "execution_count": 22,
     "metadata": {},
     "output_type": "execute_result"
    }
   ],
   "source": [
    "df1['probs_food'] = y1_probs\n",
    "df1['preds_food'] = y1_preds\n",
    "df1['true_food'] = y1_true\n",
    "\n",
    "df1 = df1.sort_values(['probs_food']).reset_index(drop=True)\n",
    "df1.head()"
   ]
  },
  {
   "cell_type": "markdown",
   "metadata": {},
   "source": [
    "### distance analysis"
   ]
  },
  {
   "cell_type": "markdown",
   "metadata": {},
   "source": [
    "- distance vs predicted probabilities: moving average"
   ]
  },
  {
   "cell_type": "code",
   "execution_count": 103,
   "metadata": {},
   "outputs": [
    {
     "data": {
      "text/html": [
       "<div>\n",
       "<style>\n",
       "    .dataframe thead tr:only-child th {\n",
       "        text-align: right;\n",
       "    }\n",
       "\n",
       "    .dataframe thead th {\n",
       "        text-align: left;\n",
       "    }\n",
       "\n",
       "    .dataframe tbody tr th {\n",
       "        vertical-align: top;\n",
       "    }\n",
       "</style>\n",
       "<table border=\"1\" class=\"dataframe\">\n",
       "  <thead>\n",
       "    <tr style=\"text-align: right;\">\n",
       "      <th></th>\n",
       "      <th>distance_1_food</th>\n",
       "      <th>distance_2_food</th>\n",
       "      <th>distance_3_food</th>\n",
       "      <th>distance_4_food</th>\n",
       "      <th>probs_food</th>\n",
       "    </tr>\n",
       "  </thead>\n",
       "  <tbody>\n",
       "    <tr>\n",
       "      <th>7315769</th>\n",
       "      <td>2.826644</td>\n",
       "      <td>4.873584</td>\n",
       "      <td>5.245802</td>\n",
       "      <td>4.514678</td>\n",
       "      <td>1.0</td>\n",
       "    </tr>\n",
       "    <tr>\n",
       "      <th>7315770</th>\n",
       "      <td>2.827996</td>\n",
       "      <td>4.874086</td>\n",
       "      <td>5.246690</td>\n",
       "      <td>4.515819</td>\n",
       "      <td>1.0</td>\n",
       "    </tr>\n",
       "    <tr>\n",
       "      <th>7315771</th>\n",
       "      <td>2.826549</td>\n",
       "      <td>4.874576</td>\n",
       "      <td>5.246810</td>\n",
       "      <td>4.515833</td>\n",
       "      <td>1.0</td>\n",
       "    </tr>\n",
       "    <tr>\n",
       "      <th>7315772</th>\n",
       "      <td>2.828020</td>\n",
       "      <td>4.874133</td>\n",
       "      <td>5.246570</td>\n",
       "      <td>4.516903</td>\n",
       "      <td>1.0</td>\n",
       "    </tr>\n",
       "    <tr>\n",
       "      <th>7315773</th>\n",
       "      <td>2.828070</td>\n",
       "      <td>4.874069</td>\n",
       "      <td>5.246607</td>\n",
       "      <td>4.516507</td>\n",
       "      <td>1.0</td>\n",
       "    </tr>\n",
       "  </tbody>\n",
       "</table>\n",
       "</div>"
      ],
      "text/plain": [
       "         distance_1_food  distance_2_food  distance_3_food  distance_4_food  \\\n",
       "7315769         2.826644         4.873584         5.245802         4.514678   \n",
       "7315770         2.827996         4.874086         5.246690         4.515819   \n",
       "7315771         2.826549         4.874576         5.246810         4.515833   \n",
       "7315772         2.828020         4.874133         5.246570         4.516903   \n",
       "7315773         2.828070         4.874069         5.246607         4.516507   \n",
       "\n",
       "         probs_food  \n",
       "7315769         1.0  \n",
       "7315770         1.0  \n",
       "7315771         1.0  \n",
       "7315772         1.0  \n",
       "7315773         1.0  "
      ]
     },
     "execution_count": 103,
     "metadata": {},
     "output_type": "execute_result"
    }
   ],
   "source": [
    "df2 = df1[['distance_1_food','distance_2_food','distance_3_food','distance_4_food','probs_food']]\n",
    "df2_ = df2.rolling(1000).mean()[999:].reset_index(drop=True)\n",
    "df2_.tail()"
   ]
  },
  {
   "cell_type": "code",
   "execution_count": 113,
   "metadata": {},
   "outputs": [
    {
     "data": {
      "image/png": "[encoded data removed]",
      "text/plain": [
       "<matplotlib.figure.Figure at 0x12308cdd8>"
      ]
     },
     "metadata": {},
     "output_type": "display_data"
    }
   ],
   "source": [
    "plot_probs('distance vs probabilities: moving average',df2_['distance_1_food'],df2_['distance_2_food'],df2_['distance_3_food'],df2_['distance_4_food'],df2_['probs_food'],step=50000)"
   ]
  },
  {
   "cell_type": "markdown",
   "metadata": {},
   "source": [
    "- distance group by tweets with or without food"
   ]
  },
  {
   "cell_type": "code",
   "execution_count": 101,
   "metadata": {},
   "outputs": [
    {
     "data": {
      "text/html": [
       "<div>\n",
       "<style>\n",
       "    .dataframe thead tr:only-child th {\n",
       "        text-align: right;\n",
       "    }\n",
       "\n",
       "    .dataframe thead th {\n",
       "        text-align: left;\n",
       "    }\n",
       "\n",
       "    .dataframe tbody tr th {\n",
       "        vertical-align: top;\n",
       "    }\n",
       "</style>\n",
       "<table border=\"1\" class=\"dataframe\">\n",
       "  <thead>\n",
       "    <tr style=\"text-align: right;\">\n",
       "      <th></th>\n",
       "      <th>distance_1_food</th>\n",
       "      <th>distance_2_food</th>\n",
       "      <th>distance_3_food</th>\n",
       "      <th>distance_4_food</th>\n",
       "      <th>true_food</th>\n",
       "      <th>preds_food</th>\n",
       "    </tr>\n",
       "  </thead>\n",
       "  <tbody>\n",
       "    <tr>\n",
       "      <th>7315769</th>\n",
       "      <td>3.029226</td>\n",
       "      <td>4.878992</td>\n",
       "      <td>5.251235</td>\n",
       "      <td>4.654004</td>\n",
       "      <td>1</td>\n",
       "      <td>1</td>\n",
       "    </tr>\n",
       "    <tr>\n",
       "      <th>7315770</th>\n",
       "      <td>3.029310</td>\n",
       "      <td>4.877879</td>\n",
       "      <td>5.250860</td>\n",
       "      <td>4.653311</td>\n",
       "      <td>1</td>\n",
       "      <td>1</td>\n",
       "    </tr>\n",
       "    <tr>\n",
       "      <th>7315771</th>\n",
       "      <td>3.030440</td>\n",
       "      <td>4.878263</td>\n",
       "      <td>5.250971</td>\n",
       "      <td>4.654440</td>\n",
       "      <td>1</td>\n",
       "      <td>1</td>\n",
       "    </tr>\n",
       "    <tr>\n",
       "      <th>7315772</th>\n",
       "      <td>3.029992</td>\n",
       "      <td>4.878056</td>\n",
       "      <td>5.250613</td>\n",
       "      <td>4.653672</td>\n",
       "      <td>1</td>\n",
       "      <td>1</td>\n",
       "    </tr>\n",
       "    <tr>\n",
       "      <th>7315773</th>\n",
       "      <td>3.029846</td>\n",
       "      <td>4.878365</td>\n",
       "      <td>5.250807</td>\n",
       "      <td>4.653183</td>\n",
       "      <td>1</td>\n",
       "      <td>1</td>\n",
       "    </tr>\n",
       "  </tbody>\n",
       "</table>\n",
       "</div>"
      ],
      "text/plain": [
       "         distance_1_food  distance_2_food  distance_3_food  distance_4_food  \\\n",
       "7315769         3.029226         4.878992         5.251235         4.654004   \n",
       "7315770         3.029310         4.877879         5.250860         4.653311   \n",
       "7315771         3.030440         4.878263         5.250971         4.654440   \n",
       "7315772         3.029992         4.878056         5.250613         4.653672   \n",
       "7315773         3.029846         4.878365         5.250807         4.653183   \n",
       "\n",
       "         true_food  preds_food  \n",
       "7315769          1           1  \n",
       "7315770          1           1  \n",
       "7315771          1           1  \n",
       "7315772          1           1  \n",
       "7315773          1           1  "
      ]
     },
     "execution_count": 101,
     "metadata": {},
     "output_type": "execute_result"
    }
   ],
   "source": [
    "df3 = df1[['distance_1_food','distance_2_food','distance_3_food','distance_4_food','preds_food','true_food']].sort_values(['true_food']).reset_index(drop=True)\n",
    "df3_ = df3[['distance_1_food','distance_2_food','distance_3_food','distance_4_food']].rolling(1000).mean()[999:].reset_index(drop=True)\n",
    "df3_ = pd.concat((df3_,df3['true_food'][999:].reset_index(drop=True),df3['preds_food'][999:].reset_index(drop=True)),axis=1)\n",
    "df3_.tail()"
   ]
  },
  {
   "cell_type": "code",
   "execution_count": 114,
   "metadata": {},
   "outputs": [
    {
     "data": {
      "image/png": "[encoded data removed]",
      "text/plain": [
       "<matplotlib.figure.Figure at 0x1722a0fd0>"
      ]
     },
     "metadata": {},
     "output_type": "display_data"
    }
   ],
   "source": [
    "plot_distance('distance vs probabilities: with or without food',df3_['distance_1_food'],df3_['distance_2_food'],df3_['distance_3_food'],df3_['distance_4_food'],df3_['true_food'],step=50000)"
   ]
  }
 ],
 "metadata": {
  "kernelspec": {
   "display_name": "Python 3",
   "language": "python",
   "name": "python3"
  },
  "language_info": {
   "codemirror_mode": {
    "name": "ipython",
    "version": 3
   },
   "file_extension": ".py",
   "mimetype": "text/x-python",
   "name": "python",
   "nbconvert_exporter": "python",
   "pygments_lexer": "ipython3",
   "version": "3.5.4"
  }
 },
 "nbformat": 4,
 "nbformat_minor": 2
}
