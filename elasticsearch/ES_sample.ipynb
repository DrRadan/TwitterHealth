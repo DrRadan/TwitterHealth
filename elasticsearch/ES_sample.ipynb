{
 "cells": [
  {
   "cell_type": "code",
   "execution_count": 1,
   "metadata": {},
   "outputs": [],
   "source": [
    "from elasticsearch import Elasticsearch\n",
    "import os\n",
    "import pandas as pd\n",
    "import sys\n",
    "import json\n",
    "from smappdragon import JsonCollection\n",
    "import tornado.options"
   ]
  },
  {
   "cell_type": "code",
   "execution_count": 12,
   "metadata": {},
   "outputs": [],
   "source": [
    "# import os\n",
    "# os.environ['JAVA_HOME'] = '/Library/Java/JavaVirtualMachines/adoptopenjdk-8.jdk/Contents/Home'\n",
    "# os.environ['CLASSPATH'] = '/Users/elle0804/spark-2.4.2-bin-hadoop2.7/jars/scala-library-2.12.8.jar'"
   ]
  },
  {
   "cell_type": "code",
   "execution_count": 3,
   "metadata": {},
   "outputs": [
    {
     "data": {
      "text/plain": [
       "{'name': 'TeXop4i',\n",
       " 'cluster_name': 'elasticsearch',\n",
       " 'cluster_uuid': 'u7bKaI3bTQCU9rM0vdpWUg',\n",
       " 'version': {'number': '5.3.0',\n",
       "  'build_hash': '3adb13b',\n",
       "  'build_date': '2017-03-23T03:31:50.652Z',\n",
       "  'build_snapshot': False,\n",
       "  'lucene_version': '6.4.1'},\n",
       " 'tagline': 'You Know, for Search'}"
      ]
     },
     "execution_count": 3,
     "metadata": {},
     "output_type": "execute_result"
    }
   ],
   "source": [
    "es = Elasticsearch()\n",
    "es.info(pretty = True)"
   ]
  },
  {
   "cell_type": "code",
   "execution_count": 4,
   "metadata": {},
   "outputs": [],
   "source": [
    "path = os.getcwd()\n",
    "data_dir = os.path.join(path, '../data')\n",
    "data_path = os.path.join(path, '../data/TrSample2015.json')\n",
    "collection = JsonCollection(data_path)"
   ]
  },
  {
   "cell_type": "code",
   "execution_count": 5,
   "metadata": {},
   "outputs": [
    {
     "name": "stdout",
     "output_type": "stream",
     "text": [
      "{'id': 621246888029782016, 'text': 'current weather in Portland: cloudy, 66°F\\n88% humidity, wind 0mph, visibility 1mi, pressure 29.6in steady', 'created_at': 'Wed Jul 15 09:16:14 +0000 2015', 'user': {'location': 'Portland, ME'}}\n"
     ]
    }
   ],
   "source": [
    "for (i, tweet) in enumerate(collection.get_iterator()):\n",
    "    print(tweet)\n",
    "    break"
   ]
  },
  {
   "cell_type": "code",
   "execution_count": 6,
   "metadata": {},
   "outputs": [
    {
     "data": {
      "text/html": [
       "\n",
       "            <div>\n",
       "                <p><b>SparkSession - in-memory</b></p>\n",
       "                \n",
       "        <div>\n",
       "            <p><b>SparkContext</b></p>\n",
       "\n",
       "            <p><a href=\"http://192.168.101.23:4040\">Spark UI</a></p>\n",
       "\n",
       "            <dl>\n",
       "              <dt>Version</dt>\n",
       "                <dd><code>v2.2.0</code></dd>\n",
       "              <dt>Master</dt>\n",
       "                <dd><code>local[*]</code></dd>\n",
       "              <dt>AppName</dt>\n",
       "                <dd><code>PySparkShell</code></dd>\n",
       "            </dl>\n",
       "        </div>\n",
       "        \n",
       "            </div>\n",
       "        "
      ],
      "text/plain": [
       "<pyspark.sql.session.SparkSession at 0x10e36beb8>"
      ]
     },
     "execution_count": 6,
     "metadata": {},
     "output_type": "execute_result"
    }
   ],
   "source": [
    "spark"
   ]
  },
  {
   "cell_type": "code",
   "execution_count": null,
   "metadata": {},
   "outputs": [],
   "source": [
    "# from pyspark.sql import SparkSession, SQLContext\n",
    "# from pyspark.sql.types import *\n",
    "# spark = SparkSession.builder.master(\"local\").appName(\"Fuzzy Search\").getOrCreate()"
   ]
  },
  {
   "cell_type": "code",
   "execution_count": 7,
   "metadata": {
    "scrolled": true
   },
   "outputs": [
    {
     "name": "stdout",
     "output_type": "stream",
     "text": [
      "+--------------------+------------------+--------------------+--------------------+\n",
      "|          created_at|                id|                text|                user|\n",
      "+--------------------+------------------+--------------------+--------------------+\n",
      "|Wed Jul 15 09:16:...|621246888029782016|current weather i...|      [Portland, ME]|\n",
      "|Wed Jul 15 10:16:...|621262104004329474|15 July 2015 #dai...|              [SoPo]|\n",
      "|Wed Jul 15 12:02:...|621288821792112644|Good morning frie...|                [nh]|\n",
      "|Wed Jul 15 09:16:...|621247071538941953|Current Condition...|[Brunswick, Maine...|\n",
      "|Wed Jul 15 06:14:...|621201038947684356|cloudy -&gt; fog\n",
      "...|      [Portland, ME]|\n",
      "|Wed Jul 15 11:35:...|621281862275715072|Let's Shopping 🇺...|[Bangkok ✈️ Thail...|\n",
      "|Wed Jul 15 11:55:...|621286977447546880|#LoveTheSkinYoure...|       [York, Maine]|\n",
      "|Wed Jul 15 09:12:...|621245881115766784|5:14am: sunrise\n",
      "s...|      [Portland, ME]|\n",
      "|Wed Jul 15 12:32:...|621296182799810560|@anniehoffman @so...|[iPhone: 43.67166...|\n",
      "|Wed Jul 15 12:43:...|621298920564629504|Pea-soup fog this...|   [Portland, Maine]|\n",
      "|Wed Jul 15 12:34:...|621296884813070336|One man band. Ken...|             [Maine]|\n",
      "|Wed Jul 15 13:33:...|621311582300184576|Sweat and ladders...|[ÜT: 40.833467,-7...|\n",
      "|Wed Jul 15 14:34:...|621327057012789248|Smitten with my s...|  [Santa Monica, CA]|\n",
      "|Wed Jul 15 12:30:...|621295753131098112|I'm at American H...|[Hermon, ME (from...|\n",
      "|Wed Jul 15 13:21:...|621308600095514624|@elissafink I'm a...|     [Saco, ME, USA]|\n",
      "|Wed Jul 15 15:15:...|621337222013394945|Debut visit to Oh...|   [Portland, Maine]|\n",
      "|Wed Jul 15 16:10:...|621351141863886848|I'm at Portland I...|               [ATL]|\n",
      "|Wed Jul 15 16:11:...|621351484857389056|Picasso, Miró, an...|    [Washington, DC]|\n",
      "|Wed Jul 15 15:23:...|621339388514029568|#building_buddy #...|            [Gotham]|\n",
      "|Wed Jul 15 15:58:...|621348216953548800|I'm at AE Robinso...|[East Wareham MA,...|\n",
      "+--------------------+------------------+--------------------+--------------------+\n",
      "only showing top 20 rows\n",
      "\n"
     ]
    }
   ],
   "source": [
    "sc = spark.sparkContext\n",
    "sqlContext = SQLContext(sc)\n",
    "doc = spark.read.load(data_path, format=\"json\")\n",
    "doc.show()"
   ]
  },
  {
   "cell_type": "code",
   "execution_count": 8,
   "metadata": {},
   "outputs": [
    {
     "data": {
      "text/plain": [
       "{'acknowledged': True, 'shards_acknowledged': True}"
      ]
     },
     "execution_count": 8,
     "metadata": {},
     "output_type": "execute_result"
    }
   ],
   "source": [
    "schema = {\n",
    "    \"mappings\":{\n",
    "        \"twitter2015\":{\n",
    "            \"properties\":{\n",
    "             \"id\": {\"type\": \"text\"},\n",
    "             \"text\": {\"type\": \"text\"},\n",
    "             \"created_at\": {\"type\": \"text\"},\n",
    "              \"user\": {\"type\": \"nested\",\n",
    "                        \"properties\": {\n",
    "                         \"location\": {\"type\": \"text\"}\n",
    "                     }\n",
    "                }\n",
    "            }\n",
    "        }     \n",
    "    } \n",
    "}\n",
    "es.indices.delete(index=\"demo\")\n",
    "es.indices.create(index=\"demo\", body=schema)"
   ]
  },
  {
   "cell_type": "code",
   "execution_count": 9,
   "metadata": {
    "scrolled": true
   },
   "outputs": [],
   "source": [
    "# Type is specified here, which means we can always add another type to the index by this function. \n",
    "doc.write.format(\"es\").save(\"demo/twitter2015\")"
   ]
  },
  {
   "cell_type": "code",
   "execution_count": 10,
   "metadata": {},
   "outputs": [],
   "source": [
    "fuzzy = {\n",
    "        \"query\": {\n",
    "            \"fuzzy\": {\n",
    "                \"text\": {\n",
    "                    \"value\": \"cloud\",\n",
    "                    \"fuzziness\": 2,\n",
    "            }\n",
    "        }\n",
    "    }\n",
    "}"
   ]
  },
  {
   "cell_type": "code",
   "execution_count": 11,
   "metadata": {},
   "outputs": [],
   "source": [
    "fuzzy_search = es.search(index=\"demo\", body = fuzzy)"
   ]
  },
  {
   "cell_type": "code",
   "execution_count": 12,
   "metadata": {},
   "outputs": [
    {
     "data": {
      "text/plain": [
       "{'took': 146,\n",
       " 'timed_out': False,\n",
       " '_shards': {'total': 5, 'successful': 5, 'failed': 0},\n",
       " 'hits': {'total': 32630,\n",
       "  'max_score': 7.8177214,\n",
       "  'hits': [{'_index': 'demo',\n",
       "    '_type': 'twitter2015',\n",
       "    '_id': 'AWr2-CacmHCcLGwVem36',\n",
       "    '_score': 7.8177214,\n",
       "    '_source': {'created_at': 'Mon Sep 28 15:29:15 +0000 2015',\n",
       "     'id': 648519847744290816,\n",
       "     'text': 'Silly cloud #clouds #killntime @ Tanner Park https://t.co/ZfoQ1SRQvM',\n",
       "     'user': {'location': 'Utah, USA'}}},\n",
       "   {'_index': 'demo',\n",
       "    '_type': 'twitter2015',\n",
       "    '_id': 'AWr2-F4jmHCcLGwVfWPP',\n",
       "    '_score': 7.2279444,\n",
       "    '_source': {'created_at': 'Sun Nov 22 18:07:25 +0000 2015',\n",
       "     'id': 668490984561381376,\n",
       "     'text': \"It's all about the cloth cord!!! In stock in cloud, earth, and sky. Cloth Cord is sold individually… https://t.co/2jeCBw3uN9\",\n",
       "     'user': {'location': 'Tulsa, Oklahoma'}}},\n",
       "   {'_index': 'demo',\n",
       "    '_type': 'twitter2015',\n",
       "    '_id': 'AWr2-EKmmHCcLGwVfADP',\n",
       "    '_score': 6.568062,\n",
       "    '_source': {'created_at': 'Fri Sep 04 23:48:44 +0000 2015',\n",
       "     'id': 639948239136030720,\n",
       "     'text': '#sky #cloud #clouds #cloudporn #abovetheclouds #beach #sunset @ Rehoboth Beach - on the Beach https://t.co/QUK5v2SGSd',\n",
       "     'user': {'location': 'Dover, DE'}}},\n",
       "   {'_index': 'demo',\n",
       "    '_type': 'twitter2015',\n",
       "    '_id': 'AWr2-B1YmHCcLGwVeeWb',\n",
       "    '_score': 6.566622,\n",
       "    '_source': {'created_at': 'Tue Sep 15 15:51:21 +0000 2015',\n",
       "     'id': 643814368577220608,\n",
       "     'text': 'Ogden valley cloud porn.  #ogdenadventure #mtnlife #ov #myogden #clouds #cloudporn @ Pineview Reservoir https://t.co/6KX0nARf08',\n",
       "     'user': {'location': 'Ogden, Utah'}}},\n",
       "   {'_index': 'demo',\n",
       "    '_type': 'twitter2015',\n",
       "    '_id': 'AWr2-Gr5mHCcLGwVfhx4',\n",
       "    '_score': 6.566622,\n",
       "    '_source': {'created_at': 'Fri Oct 09 12:50:07 +0000 2015',\n",
       "     'id': 652466067772542976,\n",
       "     'text': '#sunshine #bluesky #abovetheclouds #clouds #cloudporn #sky #cloud #skyporn #blessedlife… https://t.co/0AWTf31Ijr',\n",
       "     'user': {'location': 'Dover, DE'}}},\n",
       "   {'_index': 'demo',\n",
       "    '_type': 'twitter2015',\n",
       "    '_id': 'AWr2-EKmmHCcLGwVfADV',\n",
       "    '_score': 6.5577784,\n",
       "    '_source': {'created_at': 'Fri Sep 04 23:52:00 +0000 2015',\n",
       "     'id': 639949060129091584,\n",
       "     'text': '#sky #cloud #clouds #cloudporn #dolphins #beach #beachlife #water @ Rehoboth Beach - on the Beach https://t.co/jZdBQg9LWR',\n",
       "     'user': {'location': 'Dover, DE'}}},\n",
       "   {'_index': 'demo',\n",
       "    '_type': 'twitter2015',\n",
       "    '_id': 'AWr2-IQDmHCcLGwVf1ks',\n",
       "    '_score': 6.557508,\n",
       "    '_source': {'created_at': 'Mon Jun 29 10:25:39 +0000 2015',\n",
       "     'id': 615466151347359744,\n",
       "     'text': '@Albanyfx could close there',\n",
       "     'user': {'location': 'Pennsylvania, USA'}}},\n",
       "   {'_index': 'demo',\n",
       "    '_type': 'twitter2015',\n",
       "    '_id': 'AWr2-CpimHCcLGwVeqS_',\n",
       "    '_score': 6.5476284,\n",
       "    '_source': {'created_at': 'Tue Sep 01 19:50:45 +0000 2015',\n",
       "     'id': 638801184573272064,\n",
       "     'text': '#abovetheclouds #upupandaway #sky #clouds #cloudporn #cloud #headintheclouds @ Dover High School 1… https://t.co/DaVfOnY6hQ',\n",
       "     'user': {'location': 'Dover, DE'}}},\n",
       "   {'_index': 'demo',\n",
       "    '_type': 'twitter2015',\n",
       "    '_id': 'AWr2-DDamHCcLGwVewHr',\n",
       "    '_score': 6.5476284,\n",
       "    '_source': {'created_at': 'Tue Sep 29 12:33:32 +0000 2015',\n",
       "     'id': 648838017474527232,\n",
       "     'text': '#skyporn #cloudporn #bluesky #cloud #clouds #cloudlife #abovetheclouds #treetops #sky @ Dover, Delaware https://t.co/rOunLdx1Mh',\n",
       "     'user': {'location': 'Dover, DE'}}},\n",
       "   {'_index': 'demo',\n",
       "    '_type': 'twitter2015',\n",
       "    '_id': 'AWr2-AzCmHCcLGwVeOkE',\n",
       "    '_score': 6.5033092,\n",
       "    '_source': {'created_at': 'Thu Jun 04 22:37:33 +0000 2015',\n",
       "     'id': 606590642286936064,\n",
       "     'text': 'Mountains Wrapped in Clouds\\n#cloud #mountains @ Grand Teton National Park https://t.co/8HIEep0EpF',\n",
       "     'user': {'location': 'Nantucket'}}}]}}"
      ]
     },
     "execution_count": 12,
     "metadata": {},
     "output_type": "execute_result"
    }
   ],
   "source": [
    "fuzzy_search"
   ]
  },
  {
   "cell_type": "code",
   "execution_count": 18,
   "metadata": {},
   "outputs": [
    {
     "name": "stdout",
     "output_type": "stream",
     "text": [
      "Got 32630 Hits for key word \"cloud\". First 10 id:\n",
      "648519847744290816\n",
      "668490984561381376\n",
      "639948239136030720\n",
      "643814368577220608\n",
      "652466067772542976\n",
      "639949060129091584\n",
      "615466151347359744\n",
      "638801184573272064\n",
      "648838017474527232\n",
      "606590642286936064\n"
     ]
    }
   ],
   "source": [
    "print(\"Got {} Hits for key word \\\"cloud\\\". First 10 id:\".format(fuzzy_search['hits']['total']))\n",
    "for hit in fuzzy_search['hits']['hits']:\n",
    "    print(hit[\"_source\"][\"id\"])"
   ]
  },
  {
   "cell_type": "code",
   "execution_count": null,
   "metadata": {},
   "outputs": [],
   "source": []
  }
 ],
 "metadata": {
  "kernelspec": {
   "display_name": "Python 3",
   "language": "python",
   "name": "python3"
  },
  "language_info": {
   "codemirror_mode": {
    "name": "ipython",
    "version": 3
   },
   "file_extension": ".py",
   "mimetype": "text/x-python",
   "name": "python",
   "nbconvert_exporter": "python",
   "pygments_lexer": "ipython3",
   "version": "3.6.5"
  }
 },
 "nbformat": 4,
 "nbformat_minor": 2
}
