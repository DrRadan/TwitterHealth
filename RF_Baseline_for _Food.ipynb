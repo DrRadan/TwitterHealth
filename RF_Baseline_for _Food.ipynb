{
 "cells": [
  {
   "cell_type": "code",
   "execution_count": 17,
   "metadata": {},
   "outputs": [],
   "source": [
    "import pandas as pd\n",
    "import numpy as np\n",
    "import os.path\n",
    "from sklearn.feature_extraction.text import CountVectorizer\n",
    "import pickle as pkl\n",
    "from time import time\n",
    "from sklearn.decomposition import LatentDirichletAllocation\n",
    "from sklearn.model_selection import ParameterGrid\n",
    "from random import sample\n",
    "import warnings\n",
    "warnings.filterwarnings(\"ignore\")\n",
    "from sklearn.model_selection import train_test_split\n",
    "from sklearn import ensemble, preprocessing, metrics"
   ]
  },
  {
   "cell_type": "code",
   "execution_count": 2,
   "metadata": {
    "collapsed": true
   },
   "outputs": [],
   "source": [
    "# Load data with label\n",
    "data201511 = pd.read_csv(\"small_2015-11_key_word.csv\",index_col=False, header=None)\n",
    "data201511.columns = np.array([str(i) for i in data201511.columns.values])\n",
    "data201506 = pd.read_csv(\"small_2015-06_key_word.csv\",index_col=False, header=None)\n",
    "data201506.columns = np.array([str(i) for i in data201506.columns.values])"
   ]
  },
  {
   "cell_type": "code",
   "execution_count": 3,
   "metadata": {},
   "outputs": [
    {
     "data": {
      "text/plain": [
       "4\n",
       "0    8610183\n",
       "1     491745\n",
       "2     413578\n",
       "3      19987\n",
       "dtype: int64"
      ]
     },
     "execution_count": 3,
     "metadata": {},
     "output_type": "execute_result"
    }
   ],
   "source": [
    "data2015 =  pd.concat([data201506, data201511])\n",
    "data2015 = data2015[data2015['1'].notnull()]\n",
    "data2015.groupby(data2015['4']).size()"
   ]
  },
  {
   "cell_type": "code",
   "execution_count": 43,
   "metadata": {},
   "outputs": [
    {
     "data": {
      "text/html": [
       "<div>\n",
       "<style>\n",
       "    .dataframe thead tr:only-child th {\n",
       "        text-align: right;\n",
       "    }\n",
       "\n",
       "    .dataframe thead th {\n",
       "        text-align: left;\n",
       "    }\n",
       "\n",
       "    .dataframe tbody tr th {\n",
       "        vertical-align: top;\n",
       "    }\n",
       "</style>\n",
       "<table border=\"1\" class=\"dataframe\">\n",
       "  <thead>\n",
       "    <tr style=\"text-align: right;\">\n",
       "      <th></th>\n",
       "      <th>0</th>\n",
       "      <th>1</th>\n",
       "      <th>2</th>\n",
       "      <th>3</th>\n",
       "      <th>4</th>\n",
       "    </tr>\n",
       "  </thead>\n",
       "  <tbody>\n",
       "    <tr>\n",
       "      <th>0</th>\n",
       "      <td>611053325644005376</td>\n",
       "      <td>she say unenthused</td>\n",
       "      <td>NaN</td>\n",
       "      <td>NaN</td>\n",
       "      <td>0</td>\n",
       "    </tr>\n",
       "    <tr>\n",
       "      <th>1</th>\n",
       "      <td>611162865551192064</td>\n",
       "      <td>for ailment sun remedy none if try find</td>\n",
       "      <td>NaN</td>\n",
       "      <td>NaN</td>\n",
       "      <td>0</td>\n",
       "    </tr>\n",
       "    <tr>\n",
       "      <th>2</th>\n",
       "      <td>611058983927836673</td>\n",
       "      <td>yeah rest conditioning summer</td>\n",
       "      <td>NaN</td>\n",
       "      <td>NaN</td>\n",
       "      <td>0</td>\n",
       "    </tr>\n",
       "    <tr>\n",
       "      <th>3</th>\n",
       "      <td>611165766952591360</td>\n",
       "      <td>remind blessed i walk office today</td>\n",
       "      <td>NaN</td>\n",
       "      <td>walk</td>\n",
       "      <td>2</td>\n",
       "    </tr>\n",
       "    <tr>\n",
       "      <th>4</th>\n",
       "      <td>611159320655347712</td>\n",
       "      <td>unarmed white teen shot black officer</td>\n",
       "      <td>NaN</td>\n",
       "      <td>NaN</td>\n",
       "      <td>0</td>\n",
       "    </tr>\n",
       "  </tbody>\n",
       "</table>\n",
       "</div>"
      ],
      "text/plain": [
       "                    0                                        1    2     3  4\n",
       "0  611053325644005376                       she say unenthused  NaN   NaN  0\n",
       "1  611162865551192064  for ailment sun remedy none if try find  NaN   NaN  0\n",
       "2  611058983927836673            yeah rest conditioning summer  NaN   NaN  0\n",
       "3  611165766952591360       remind blessed i walk office today  NaN  walk  2\n",
       "4  611159320655347712    unarmed white teen shot black officer  NaN   NaN  0"
      ]
     },
     "execution_count": 43,
     "metadata": {},
     "output_type": "execute_result"
    }
   ],
   "source": [
    "# The column 4 is label, \n",
    "# when 0 means no mention to foods or activity, 1 means mention food , \n",
    "# 2 means mention activity and 3 means both are mentioned\n",
    "data2015.head()"
   ]
  },
  {
   "cell_type": "code",
   "execution_count": 4,
   "metadata": {
    "collapsed": true
   },
   "outputs": [],
   "source": [
    "data2015_0 = data2015[data2015['4']==0]\n",
    "data2015_0_balanced = data2015_0.sample(512000)\n",
    "data2015_food = data2015[(data2015['4']==1) | (data2015['4']==3) ]"
   ]
  },
  {
   "cell_type": "code",
   "execution_count": 5,
   "metadata": {
    "collapsed": true
   },
   "outputs": [],
   "source": [
    "data_model = pd.concat([data2015_0_balanced, data2015_food])\n",
    "data_model =data_model.sample(frac=1).reset_index(drop=True)"
   ]
  },
  {
   "cell_type": "code",
   "execution_count": 6,
   "metadata": {},
   "outputs": [
    {
     "data": {
      "text/plain": [
       "label\n",
       "0    512000\n",
       "1    511732\n",
       "dtype: int64"
      ]
     },
     "execution_count": 6,
     "metadata": {},
     "output_type": "execute_result"
    }
   ],
   "source": [
    "data_model = data_model.drop(['2','3'],axis = 1)\n",
    "data_model.columns = ['TweetsID','Tokenized_text','label']\n",
    "data_model = data_model.replace(3,1)\n",
    "data_model.groupby('label').size()"
   ]
  },
  {
   "cell_type": "code",
   "execution_count": 8,
   "metadata": {
    "scrolled": true
   },
   "outputs": [
    {
     "data": {
      "text/html": [
       "<div>\n",
       "<style>\n",
       "    .dataframe thead tr:only-child th {\n",
       "        text-align: right;\n",
       "    }\n",
       "\n",
       "    .dataframe thead th {\n",
       "        text-align: left;\n",
       "    }\n",
       "\n",
       "    .dataframe tbody tr th {\n",
       "        vertical-align: top;\n",
       "    }\n",
       "</style>\n",
       "<table border=\"1\" class=\"dataframe\">\n",
       "  <thead>\n",
       "    <tr style=\"text-align: right;\">\n",
       "      <th></th>\n",
       "      <th>TweetsID</th>\n",
       "      <th>Tokenized_text</th>\n",
       "      <th>label</th>\n",
       "    </tr>\n",
       "  </thead>\n",
       "  <tbody>\n",
       "    <tr>\n",
       "      <th>0</th>\n",
       "      <td>610517805981663232</td>\n",
       "      <td>pizza pizza pizza two boots east village new y...</td>\n",
       "      <td>1</td>\n",
       "    </tr>\n",
       "    <tr>\n",
       "      <th>1</th>\n",
       "      <td>608516489952387072</td>\n",
       "      <td>why i run burrito</td>\n",
       "      <td>1</td>\n",
       "    </tr>\n",
       "    <tr>\n",
       "      <th>2</th>\n",
       "      <td>611051427499110401</td>\n",
       "      <td>when jacob put flashlight ballsack idk i hango...</td>\n",
       "      <td>0</td>\n",
       "    </tr>\n",
       "    <tr>\n",
       "      <th>3</th>\n",
       "      <td>671404098084843520</td>\n",
       "      <td>nice pumpkin beer good nose drinking pumpkin ale</td>\n",
       "      <td>1</td>\n",
       "    </tr>\n",
       "    <tr>\n",
       "      <th>4</th>\n",
       "      <td>670807301519970304</td>\n",
       "      <td>there time ticket dec 4th dj sylk schomburg ce...</td>\n",
       "      <td>0</td>\n",
       "    </tr>\n",
       "    <tr>\n",
       "      <th>5</th>\n",
       "      <td>611754622621982720</td>\n",
       "      <td>here inspiration come thank you miami fully re...</td>\n",
       "      <td>0</td>\n",
       "    </tr>\n",
       "    <tr>\n",
       "      <th>6</th>\n",
       "      <td>612682507662815236</td>\n",
       "      <td>pull pork black eyed pea candy sweet potato si...</td>\n",
       "      <td>1</td>\n",
       "    </tr>\n",
       "    <tr>\n",
       "      <th>7</th>\n",
       "      <td>661986223762878464</td>\n",
       "      <td>day try place oyster wh stiles fish camp dub s</td>\n",
       "      <td>1</td>\n",
       "    </tr>\n",
       "    <tr>\n",
       "      <th>8</th>\n",
       "      <td>615168157695799297</td>\n",
       "      <td>i be apple store king street charleston sc</td>\n",
       "      <td>1</td>\n",
       "    </tr>\n",
       "    <tr>\n",
       "      <th>9</th>\n",
       "      <td>611881898164404224</td>\n",
       "      <td>american water works acquire Pennsylvania util...</td>\n",
       "      <td>1</td>\n",
       "    </tr>\n",
       "    <tr>\n",
       "      <th>10</th>\n",
       "      <td>665202149429780481</td>\n",
       "      <td>available wide variety color</td>\n",
       "      <td>0</td>\n",
       "    </tr>\n",
       "    <tr>\n",
       "      <th>11</th>\n",
       "      <td>606934996880924672</td>\n",
       "      <td>the neighbor clean uncle s house pass way ok i...</td>\n",
       "      <td>0</td>\n",
       "    </tr>\n",
       "    <tr>\n",
       "      <th>12</th>\n",
       "      <td>664545551363493892</td>\n",
       "      <td>frozen hot chocolate</td>\n",
       "      <td>1</td>\n",
       "    </tr>\n",
       "    <tr>\n",
       "      <th>13</th>\n",
       "      <td>609072975740964864</td>\n",
       "      <td>reason i tweet ask i want play hot potato f</td>\n",
       "      <td>1</td>\n",
       "    </tr>\n",
       "    <tr>\n",
       "      <th>14</th>\n",
       "      <td>662045026541699073</td>\n",
       "      <td>fresh egg pasta dough chefphillip_mariano dome...</td>\n",
       "      <td>1</td>\n",
       "    </tr>\n",
       "    <tr>\n",
       "      <th>15</th>\n",
       "      <td>612634075837374468</td>\n",
       "      <td>happy 21st father s day 50 lookin 35</td>\n",
       "      <td>0</td>\n",
       "    </tr>\n",
       "    <tr>\n",
       "      <th>16</th>\n",
       "      <td>609077796183371776</td>\n",
       "      <td>marshmallow creme rainbow</td>\n",
       "      <td>0</td>\n",
       "    </tr>\n",
       "    <tr>\n",
       "      <th>17</th>\n",
       "      <td>608335293410885634</td>\n",
       "      <td>sad</td>\n",
       "      <td>0</td>\n",
       "    </tr>\n",
       "    <tr>\n",
       "      <th>18</th>\n",
       "      <td>663724717338181636</td>\n",
       "      <td>miss game always good time plattsburgh especia...</td>\n",
       "      <td>0</td>\n",
       "    </tr>\n",
       "    <tr>\n",
       "      <th>19</th>\n",
       "      <td>612323322756505600</td>\n",
       "      <td>i like lot drinking dallas blonde</td>\n",
       "      <td>0</td>\n",
       "    </tr>\n",
       "    <tr>\n",
       "      <th>20</th>\n",
       "      <td>607344010999513088</td>\n",
       "      <td>eatin crab drink beer listen good southern roc...</td>\n",
       "      <td>0</td>\n",
       "    </tr>\n",
       "    <tr>\n",
       "      <th>21</th>\n",
       "      <td>669838776030531589</td>\n",
       "      <td>turkey release recording warning russian plane...</td>\n",
       "      <td>1</td>\n",
       "    </tr>\n",
       "    <tr>\n",
       "      <th>22</th>\n",
       "      <td>612353123861032960</td>\n",
       "      <td>we be african american festival a celebration ...</td>\n",
       "      <td>0</td>\n",
       "    </tr>\n",
       "    <tr>\n",
       "      <th>23</th>\n",
       "      <td>613077420841680896</td>\n",
       "      <td>backpack</td>\n",
       "      <td>0</td>\n",
       "    </tr>\n",
       "    <tr>\n",
       "      <th>24</th>\n",
       "      <td>662887986569322496</td>\n",
       "      <td>awww yeah reneepebb win egg roulette game toni...</td>\n",
       "      <td>1</td>\n",
       "    </tr>\n",
       "    <tr>\n",
       "      <th>25</th>\n",
       "      <td>661991167911948288</td>\n",
       "      <td>doughnut ro sugar shack alexandria va</td>\n",
       "      <td>1</td>\n",
       "    </tr>\n",
       "    <tr>\n",
       "      <th>26</th>\n",
       "      <td>670598974454149120</td>\n",
       "      <td>i have good time new york city week the weathe...</td>\n",
       "      <td>0</td>\n",
       "    </tr>\n",
       "    <tr>\n",
       "      <th>27</th>\n",
       "      <td>663165147092004864</td>\n",
       "      <td>an honor meet tonight s partner purpose banque...</td>\n",
       "      <td>1</td>\n",
       "    </tr>\n",
       "    <tr>\n",
       "      <th>28</th>\n",
       "      <td>606903161115299840</td>\n",
       "      <td>thank jkevinfoster lunch california pizza kitc...</td>\n",
       "      <td>1</td>\n",
       "    </tr>\n",
       "    <tr>\n",
       "      <th>29</th>\n",
       "      <td>662309358311751680</td>\n",
       "      <td>duck family charles enjoy perfect fall morning...</td>\n",
       "      <td>1</td>\n",
       "    </tr>\n",
       "    <tr>\n",
       "      <th>...</th>\n",
       "      <td>...</td>\n",
       "      <td>...</td>\n",
       "      <td>...</td>\n",
       "    </tr>\n",
       "    <tr>\n",
       "      <th>1023702</th>\n",
       "      <td>608513551737716736</td>\n",
       "      <td>drink pacific gem cato s ale house</td>\n",
       "      <td>0</td>\n",
       "    </tr>\n",
       "    <tr>\n",
       "      <th>1023703</th>\n",
       "      <td>605248886815531010</td>\n",
       "      <td>grand slam fam bay x 2</td>\n",
       "      <td>0</td>\n",
       "    </tr>\n",
       "    <tr>\n",
       "      <th>1023704</th>\n",
       "      <td>614785197083652096</td>\n",
       "      <td>25 for unlimited mimosas amp brunch buffet to...</td>\n",
       "      <td>0</td>\n",
       "    </tr>\n",
       "    <tr>\n",
       "      <th>1023705</th>\n",
       "      <td>607557927138959360</td>\n",
       "      <td>i be the evil lord his royal prince s lair mon...</td>\n",
       "      <td>0</td>\n",
       "    </tr>\n",
       "    <tr>\n",
       "      <th>1023706</th>\n",
       "      <td>667995745606377476</td>\n",
       "      <td>i deal real be artificial let city reseda</td>\n",
       "      <td>0</td>\n",
       "    </tr>\n",
       "    <tr>\n",
       "      <th>1023707</th>\n",
       "      <td>610446984416231425</td>\n",
       "      <td>the other tent</td>\n",
       "      <td>0</td>\n",
       "    </tr>\n",
       "    <tr>\n",
       "      <th>1023708</th>\n",
       "      <td>607707108105191424</td>\n",
       "      <td>bacon salt chiarrone sunset publishing</td>\n",
       "      <td>1</td>\n",
       "    </tr>\n",
       "    <tr>\n",
       "      <th>1023709</th>\n",
       "      <td>607801182044745728</td>\n",
       "      <td>like hate mfs fuck fuckin want</td>\n",
       "      <td>0</td>\n",
       "    </tr>\n",
       "    <tr>\n",
       "      <th>1023710</th>\n",
       "      <td>605594710242033665</td>\n",
       "      <td>i brake time not coffee makeup</td>\n",
       "      <td>0</td>\n",
       "    </tr>\n",
       "    <tr>\n",
       "      <th>1023711</th>\n",
       "      <td>613071790538104832</td>\n",
       "      <td>it be not good grade i be pretty damn proud th...</td>\n",
       "      <td>0</td>\n",
       "    </tr>\n",
       "    <tr>\n",
       "      <th>1023712</th>\n",
       "      <td>609968782598086656</td>\n",
       "      <td>honestly obsess 85c bakery cafe milpitas</td>\n",
       "      <td>0</td>\n",
       "    </tr>\n",
       "    <tr>\n",
       "      <th>1023713</th>\n",
       "      <td>669752224025718784</td>\n",
       "      <td>ric fool get right bugatti grand night club</td>\n",
       "      <td>0</td>\n",
       "    </tr>\n",
       "    <tr>\n",
       "      <th>1023714</th>\n",
       "      <td>663088186915217409</td>\n",
       "      <td>i be mickey amp friends parking structure anah...</td>\n",
       "      <td>0</td>\n",
       "    </tr>\n",
       "    <tr>\n",
       "      <th>1023715</th>\n",
       "      <td>609817653558046721</td>\n",
       "      <td>my past go to death</td>\n",
       "      <td>0</td>\n",
       "    </tr>\n",
       "    <tr>\n",
       "      <th>1023716</th>\n",
       "      <td>612753553237667841</td>\n",
       "      <td>season start today get w fathers day wit lil b...</td>\n",
       "      <td>0</td>\n",
       "    </tr>\n",
       "    <tr>\n",
       "      <th>1023717</th>\n",
       "      <td>612124429750005761</td>\n",
       "      <td>i be mcdonald s fort smith ar</td>\n",
       "      <td>1</td>\n",
       "    </tr>\n",
       "    <tr>\n",
       "      <th>1023718</th>\n",
       "      <td>664969736220971008</td>\n",
       "      <td>thankful oldhousestudio sub trio jazz blue res...</td>\n",
       "      <td>1</td>\n",
       "    </tr>\n",
       "    <tr>\n",
       "      <th>1023719</th>\n",
       "      <td>608053683427938304</td>\n",
       "      <td>dirty tramp</td>\n",
       "      <td>0</td>\n",
       "    </tr>\n",
       "    <tr>\n",
       "      <th>1023720</th>\n",
       "      <td>663165693584670720</td>\n",
       "      <td>well drink hydrostatic ipa riverbend brewing c...</td>\n",
       "      <td>0</td>\n",
       "    </tr>\n",
       "    <tr>\n",
       "      <th>1023721</th>\n",
       "      <td>661702544301948928</td>\n",
       "      <td>i not wait hear simon sinek speak tonight</td>\n",
       "      <td>0</td>\n",
       "    </tr>\n",
       "    <tr>\n",
       "      <th>1023722</th>\n",
       "      <td>665801034711719937</td>\n",
       "      <td>try call 203 847 0220 daily selection choice s...</td>\n",
       "      <td>0</td>\n",
       "    </tr>\n",
       "    <tr>\n",
       "      <th>1023723</th>\n",
       "      <td>607352806660411392</td>\n",
       "      <td>just try good person turtle middle road risk j...</td>\n",
       "      <td>1</td>\n",
       "    </tr>\n",
       "    <tr>\n",
       "      <th>1023724</th>\n",
       "      <td>666022258280955905</td>\n",
       "      <td>cream city sunday north point lighthouse</td>\n",
       "      <td>1</td>\n",
       "    </tr>\n",
       "    <tr>\n",
       "      <th>1023725</th>\n",
       "      <td>609338770840788992</td>\n",
       "      <td>no matter great talent 1 way obtain amp sustai...</td>\n",
       "      <td>0</td>\n",
       "    </tr>\n",
       "    <tr>\n",
       "      <th>1023726</th>\n",
       "      <td>668154771040313345</td>\n",
       "      <td>i be cvs hemet ca</td>\n",
       "      <td>0</td>\n",
       "    </tr>\n",
       "    <tr>\n",
       "      <th>1023727</th>\n",
       "      <td>614249791778856960</td>\n",
       "      <td>i not voice tomorrow tower theater</td>\n",
       "      <td>0</td>\n",
       "    </tr>\n",
       "    <tr>\n",
       "      <th>1023728</th>\n",
       "      <td>606868855382810624</td>\n",
       "      <td>and we get bill pay so what while i be green i...</td>\n",
       "      <td>0</td>\n",
       "    </tr>\n",
       "    <tr>\n",
       "      <th>1023729</th>\n",
       "      <td>608123511140315136</td>\n",
       "      <td>exactly inch count</td>\n",
       "      <td>0</td>\n",
       "    </tr>\n",
       "    <tr>\n",
       "      <th>1023730</th>\n",
       "      <td>609496393032425473</td>\n",
       "      <td>lunch antrearer pike place market</td>\n",
       "      <td>0</td>\n",
       "    </tr>\n",
       "    <tr>\n",
       "      <th>1023731</th>\n",
       "      <td>614843325359779840</td>\n",
       "      <td>new squash blossom scramble grill corn ricotta...</td>\n",
       "      <td>1</td>\n",
       "    </tr>\n",
       "  </tbody>\n",
       "</table>\n",
       "<p>1023732 rows × 3 columns</p>\n",
       "</div>"
      ],
      "text/plain": [
       "                   TweetsID  \\\n",
       "0        610517805981663232   \n",
       "1        608516489952387072   \n",
       "2        611051427499110401   \n",
       "3        671404098084843520   \n",
       "4        670807301519970304   \n",
       "5        611754622621982720   \n",
       "6        612682507662815236   \n",
       "7        661986223762878464   \n",
       "8        615168157695799297   \n",
       "9        611881898164404224   \n",
       "10       665202149429780481   \n",
       "11       606934996880924672   \n",
       "12       664545551363493892   \n",
       "13       609072975740964864   \n",
       "14       662045026541699073   \n",
       "15       612634075837374468   \n",
       "16       609077796183371776   \n",
       "17       608335293410885634   \n",
       "18       663724717338181636   \n",
       "19       612323322756505600   \n",
       "20       607344010999513088   \n",
       "21       669838776030531589   \n",
       "22       612353123861032960   \n",
       "23       613077420841680896   \n",
       "24       662887986569322496   \n",
       "25       661991167911948288   \n",
       "26       670598974454149120   \n",
       "27       663165147092004864   \n",
       "28       606903161115299840   \n",
       "29       662309358311751680   \n",
       "...                     ...   \n",
       "1023702  608513551737716736   \n",
       "1023703  605248886815531010   \n",
       "1023704  614785197083652096   \n",
       "1023705  607557927138959360   \n",
       "1023706  667995745606377476   \n",
       "1023707  610446984416231425   \n",
       "1023708  607707108105191424   \n",
       "1023709  607801182044745728   \n",
       "1023710  605594710242033665   \n",
       "1023711  613071790538104832   \n",
       "1023712  609968782598086656   \n",
       "1023713  669752224025718784   \n",
       "1023714  663088186915217409   \n",
       "1023715  609817653558046721   \n",
       "1023716  612753553237667841   \n",
       "1023717  612124429750005761   \n",
       "1023718  664969736220971008   \n",
       "1023719  608053683427938304   \n",
       "1023720  663165693584670720   \n",
       "1023721  661702544301948928   \n",
       "1023722  665801034711719937   \n",
       "1023723  607352806660411392   \n",
       "1023724  666022258280955905   \n",
       "1023725  609338770840788992   \n",
       "1023726  668154771040313345   \n",
       "1023727  614249791778856960   \n",
       "1023728  606868855382810624   \n",
       "1023729  608123511140315136   \n",
       "1023730  609496393032425473   \n",
       "1023731  614843325359779840   \n",
       "\n",
       "                                            Tokenized_text  label  \n",
       "0        pizza pizza pizza two boots east village new y...      1  \n",
       "1                                        why i run burrito      1  \n",
       "2        when jacob put flashlight ballsack idk i hango...      0  \n",
       "3         nice pumpkin beer good nose drinking pumpkin ale      1  \n",
       "4        there time ticket dec 4th dj sylk schomburg ce...      0  \n",
       "5        here inspiration come thank you miami fully re...      0  \n",
       "6        pull pork black eyed pea candy sweet potato si...      1  \n",
       "7           day try place oyster wh stiles fish camp dub s      1  \n",
       "8               i be apple store king street charleston sc      1  \n",
       "9        american water works acquire Pennsylvania util...      1  \n",
       "10                            available wide variety color      0  \n",
       "11       the neighbor clean uncle s house pass way ok i...      0  \n",
       "12                                    frozen hot chocolate      1  \n",
       "13             reason i tweet ask i want play hot potato f      1  \n",
       "14       fresh egg pasta dough chefphillip_mariano dome...      1  \n",
       "15                    happy 21st father s day 50 lookin 35      0  \n",
       "16                               marshmallow creme rainbow      0  \n",
       "17                                                     sad      0  \n",
       "18       miss game always good time plattsburgh especia...      0  \n",
       "19                       i like lot drinking dallas blonde      0  \n",
       "20       eatin crab drink beer listen good southern roc...      0  \n",
       "21       turkey release recording warning russian plane...      1  \n",
       "22       we be african american festival a celebration ...      0  \n",
       "23                                                backpack      0  \n",
       "24       awww yeah reneepebb win egg roulette game toni...      1  \n",
       "25                   doughnut ro sugar shack alexandria va      1  \n",
       "26       i have good time new york city week the weathe...      0  \n",
       "27       an honor meet tonight s partner purpose banque...      1  \n",
       "28       thank jkevinfoster lunch california pizza kitc...      1  \n",
       "29       duck family charles enjoy perfect fall morning...      1  \n",
       "...                                                    ...    ...  \n",
       "1023702                 drink pacific gem cato s ale house      0  \n",
       "1023703                             grand slam fam bay x 2      0  \n",
       "1023704   25 for unlimited mimosas amp brunch buffet to...      0  \n",
       "1023705  i be the evil lord his royal prince s lair mon...      0  \n",
       "1023706          i deal real be artificial let city reseda      0  \n",
       "1023707                                     the other tent      0  \n",
       "1023708             bacon salt chiarrone sunset publishing      1  \n",
       "1023709                     like hate mfs fuck fuckin want      0  \n",
       "1023710                     i brake time not coffee makeup      0  \n",
       "1023711  it be not good grade i be pretty damn proud th...      0  \n",
       "1023712           honestly obsess 85c bakery cafe milpitas      0  \n",
       "1023713        ric fool get right bugatti grand night club      0  \n",
       "1023714  i be mickey amp friends parking structure anah...      0  \n",
       "1023715                                my past go to death      0  \n",
       "1023716  season start today get w fathers day wit lil b...      0  \n",
       "1023717                      i be mcdonald s fort smith ar      1  \n",
       "1023718  thankful oldhousestudio sub trio jazz blue res...      1  \n",
       "1023719                                        dirty tramp      0  \n",
       "1023720  well drink hydrostatic ipa riverbend brewing c...      0  \n",
       "1023721          i not wait hear simon sinek speak tonight      0  \n",
       "1023722  try call 203 847 0220 daily selection choice s...      0  \n",
       "1023723  just try good person turtle middle road risk j...      1  \n",
       "1023724           cream city sunday north point lighthouse      1  \n",
       "1023725  no matter great talent 1 way obtain amp sustai...      0  \n",
       "1023726                                  i be cvs hemet ca      0  \n",
       "1023727                 i not voice tomorrow tower theater      0  \n",
       "1023728  and we get bill pay so what while i be green i...      0  \n",
       "1023729                                exactly inch count       0  \n",
       "1023730                  lunch antrearer pike place market      0  \n",
       "1023731  new squash blossom scramble grill corn ricotta...      1  \n",
       "\n",
       "[1023732 rows x 3 columns]"
      ]
     },
     "execution_count": 8,
     "metadata": {},
     "output_type": "execute_result"
    }
   ],
   "source": [
    "data_model.head()"
   ]
  },
  {
   "cell_type": "code",
   "execution_count": 7,
   "metadata": {
    "collapsed": true
   },
   "outputs": [],
   "source": [
    "length = [len(data_model.Tokenized_text.iloc[i].split()) for i in range(len(data_model))]\n",
    "length.sort()"
   ]
  },
  {
   "cell_type": "code",
   "execution_count": 8,
   "metadata": {
    "collapsed": true
   },
   "outputs": [],
   "source": [
    "import collections\n",
    "collections.Counter(length)\n",
    "dict_len = dict(collections.Counter(length))"
   ]
  },
  {
   "cell_type": "code",
   "execution_count": 12,
   "metadata": {},
   "outputs": [
    {
     "data": {
      "image/png": "[encoded data removed]",
      "text/plain": [
       "<matplotlib.figure.Figure at 0x17070bc88>"
      ]
     },
     "metadata": {},
     "output_type": "display_data"
    }
   ],
   "source": [
    "from matplotlib import pyplot as plt\n",
    "plt.bar(range(len(dict_len)), list(dict_len.values()), align='center')\n",
    "plt.xticks(range(len(dict_len)), list(dict_len.keys()))\n",
    "plt.show()"
   ]
  },
  {
   "cell_type": "code",
   "execution_count": 9,
   "metadata": {
    "scrolled": true
   },
   "outputs": [],
   "source": [
    "# Only keep tokenized text of lengths more than 4\n",
    "idx = [i for i in range(len(data_model)) if len(data_model.Tokenized_text.iloc[i].split()) >=5]\n",
    "data_model = data_model.iloc[idx]"
   ]
  },
  {
   "cell_type": "code",
   "execution_count": 35,
   "metadata": {},
   "outputs": [
    {
     "data": {
      "text/plain": [
       "842063"
      ]
     },
     "execution_count": 35,
     "metadata": {},
     "output_type": "execute_result"
    }
   ],
   "source": [
    "len(data_model)"
   ]
  },
  {
   "cell_type": "code",
   "execution_count": 38,
   "metadata": {},
   "outputs": [
    {
     "data": {
      "text/plain": [
       "label\n",
       "0    382502\n",
       "1    459561\n",
       "dtype: int64"
      ]
     },
     "execution_count": 38,
     "metadata": {},
     "output_type": "execute_result"
    }
   ],
   "source": [
    "data_model.groupby('label').size()"
   ]
  },
  {
   "cell_type": "markdown",
   "metadata": {},
   "source": [
    "## tpoics 75, maxfeature 16000, maxDF 0.4"
   ]
  },
  {
   "cell_type": "code",
   "execution_count": 37,
   "metadata": {
    "collapsed": true
   },
   "outputs": [],
   "source": [
    "def add_lda(num_topics,max_features,max_df,min_df,data_model):\n",
    "    tf_path = 'saved_model/tfVectorizer_topics={}_maxFeatures={}_maxDf={}_minDf={}.pickle'.format(num_topics,max_features,max_df,min_df)\n",
    "    lda_path = 'saved_model/LDA_topics={}_maxFeatures={}_maxDf={}_minDf={}.pickle'.format(num_topics,max_features,max_df,min_df)\n",
    "    with open(tf_path,'rb') as input_file:\n",
    "        tf_vectorizer = pkl.load(input_file)\n",
    "    with open(lda_path, \"rb\") as input_file:\n",
    "        lda = pkl.load(input_file)\n",
    "    prob_arr = lda.transform(tf_vectorizer.transform(data_model['Tokenized_text']))\n",
    "    new_cols = ['topics_{}'.format(i+1) for i in range(num_topics)]\n",
    "    new_vals = [list(topic_prob[i]) for i in range(len(data_model))]\n",
    "    data_ft = data_model.reindex(columns=data_model.columns.tolist() + new_cols)   # add empty cols\n",
    "    data_ft[new_cols] = new_vals \n",
    "    X = data_ft[['topics_{}'.format(i+1) for i in range(num_topics)]]\n",
    "    y = data_ft.label\n",
    "    X_train, X_test, y_train, y_test = train_test_split(X, y, test_size=0.2, random_state=42)\n",
    "    return data_ft, X_train, X_test, y_train, y_test"
   ]
  },
  {
   "cell_type": "code",
   "execution_count": 39,
   "metadata": {
    "collapsed": true
   },
   "outputs": [],
   "source": [
    "with open(\"tfVectorizer_topics=75_maxFeatures=16000_maxDf=0.4_minDf=1.pickle\", \"rb\") as input_file:\n",
    "    tf_vectorizer = pkl.load(input_file)\n",
    "with open(\"LDA_topics=75_maxFeatures=16000_maxDf=0.4_minDf=1.pickle\", \"rb\") as input_file:\n",
    "    lda = pkl.load(input_file)"
   ]
  },
  {
   "cell_type": "code",
   "execution_count": 40,
   "metadata": {
    "collapsed": true
   },
   "outputs": [],
   "source": [
    " topic_prob = lda.transform(tf_vectorizer.transform(data_model['Tokenized_text']))"
   ]
  },
  {
   "cell_type": "code",
   "execution_count": 41,
   "metadata": {
    "collapsed": true
   },
   "outputs": [],
   "source": [
    "new_cols = ['topics_{}'.format(i+1) for i in range(75)]\n",
    "new_vals = [list(topic_prob[i]) for i in range(len(data_model))]\n",
    "data_ft = data_model.reindex(columns=data_model.columns.tolist() + new_cols)   # add empty cols\n",
    "data_ft[new_cols] = new_vals "
   ]
  },
  {
   "cell_type": "code",
   "execution_count": 42,
   "metadata": {},
   "outputs": [
    {
     "data": {
      "text/html": [
       "<div>\n",
       "<style>\n",
       "    .dataframe thead tr:only-child th {\n",
       "        text-align: right;\n",
       "    }\n",
       "\n",
       "    .dataframe thead th {\n",
       "        text-align: left;\n",
       "    }\n",
       "\n",
       "    .dataframe tbody tr th {\n",
       "        vertical-align: top;\n",
       "    }\n",
       "</style>\n",
       "<table border=\"1\" class=\"dataframe\">\n",
       "  <thead>\n",
       "    <tr style=\"text-align: right;\">\n",
       "      <th></th>\n",
       "      <th>TweetsID</th>\n",
       "      <th>Tokenized_text</th>\n",
       "      <th>label</th>\n",
       "      <th>topics_1</th>\n",
       "      <th>topics_2</th>\n",
       "      <th>topics_3</th>\n",
       "      <th>topics_4</th>\n",
       "      <th>topics_5</th>\n",
       "      <th>topics_6</th>\n",
       "      <th>topics_7</th>\n",
       "      <th>...</th>\n",
       "      <th>topics_66</th>\n",
       "      <th>topics_67</th>\n",
       "      <th>topics_68</th>\n",
       "      <th>topics_69</th>\n",
       "      <th>topics_70</th>\n",
       "      <th>topics_71</th>\n",
       "      <th>topics_72</th>\n",
       "      <th>topics_73</th>\n",
       "      <th>topics_74</th>\n",
       "      <th>topics_75</th>\n",
       "    </tr>\n",
       "  </thead>\n",
       "  <tbody>\n",
       "    <tr>\n",
       "      <th>0</th>\n",
       "      <td>666677687038119936</td>\n",
       "      <td>do not sleep tory lanez the observatory orange...</td>\n",
       "      <td>1</td>\n",
       "      <td>0.001905</td>\n",
       "      <td>0.001905</td>\n",
       "      <td>0.001905</td>\n",
       "      <td>0.001905</td>\n",
       "      <td>0.001905</td>\n",
       "      <td>0.001905</td>\n",
       "      <td>0.001905</td>\n",
       "      <td>...</td>\n",
       "      <td>0.001905</td>\n",
       "      <td>0.001905</td>\n",
       "      <td>0.001905</td>\n",
       "      <td>0.001905</td>\n",
       "      <td>0.001905</td>\n",
       "      <td>0.001905</td>\n",
       "      <td>0.001905</td>\n",
       "      <td>0.001905</td>\n",
       "      <td>0.001905</td>\n",
       "      <td>0.001905</td>\n",
       "    </tr>\n",
       "    <tr>\n",
       "      <th>2</th>\n",
       "      <td>663148942906023940</td>\n",
       "      <td>fish triple cooked chips new improved farmersg...</td>\n",
       "      <td>1</td>\n",
       "      <td>0.002222</td>\n",
       "      <td>0.002222</td>\n",
       "      <td>0.002222</td>\n",
       "      <td>0.002222</td>\n",
       "      <td>0.168889</td>\n",
       "      <td>0.002222</td>\n",
       "      <td>0.002222</td>\n",
       "      <td>...</td>\n",
       "      <td>0.002222</td>\n",
       "      <td>0.002222</td>\n",
       "      <td>0.002222</td>\n",
       "      <td>0.002222</td>\n",
       "      <td>0.002222</td>\n",
       "      <td>0.002222</td>\n",
       "      <td>0.002222</td>\n",
       "      <td>0.002222</td>\n",
       "      <td>0.002222</td>\n",
       "      <td>0.002222</td>\n",
       "    </tr>\n",
       "    <tr>\n",
       "      <th>3</th>\n",
       "      <td>610628075341135872</td>\n",
       "      <td>sgi blue parrot oceanfront cafe</td>\n",
       "      <td>0</td>\n",
       "      <td>0.003333</td>\n",
       "      <td>0.003333</td>\n",
       "      <td>0.003333</td>\n",
       "      <td>0.003333</td>\n",
       "      <td>0.003333</td>\n",
       "      <td>0.003333</td>\n",
       "      <td>0.003333</td>\n",
       "      <td>...</td>\n",
       "      <td>0.003333</td>\n",
       "      <td>0.003333</td>\n",
       "      <td>0.003333</td>\n",
       "      <td>0.003333</td>\n",
       "      <td>0.003333</td>\n",
       "      <td>0.003333</td>\n",
       "      <td>0.003333</td>\n",
       "      <td>0.003333</td>\n",
       "      <td>0.003333</td>\n",
       "      <td>0.003333</td>\n",
       "    </tr>\n",
       "    <tr>\n",
       "      <th>4</th>\n",
       "      <td>665696902982279168</td>\n",
       "      <td>fall fire northern california santa clara cali...</td>\n",
       "      <td>0</td>\n",
       "      <td>0.001667</td>\n",
       "      <td>0.001667</td>\n",
       "      <td>0.001667</td>\n",
       "      <td>0.001667</td>\n",
       "      <td>0.126667</td>\n",
       "      <td>0.001667</td>\n",
       "      <td>0.001667</td>\n",
       "      <td>...</td>\n",
       "      <td>0.001667</td>\n",
       "      <td>0.001667</td>\n",
       "      <td>0.001667</td>\n",
       "      <td>0.001667</td>\n",
       "      <td>0.001667</td>\n",
       "      <td>0.001667</td>\n",
       "      <td>0.001667</td>\n",
       "      <td>0.001667</td>\n",
       "      <td>0.001667</td>\n",
       "      <td>0.001667</td>\n",
       "    </tr>\n",
       "    <tr>\n",
       "      <th>5</th>\n",
       "      <td>606862658453794816</td>\n",
       "      <td>my baby kindergarten year it yesterday fat lit...</td>\n",
       "      <td>1</td>\n",
       "      <td>0.001905</td>\n",
       "      <td>0.001905</td>\n",
       "      <td>0.001905</td>\n",
       "      <td>0.001905</td>\n",
       "      <td>0.001905</td>\n",
       "      <td>0.001905</td>\n",
       "      <td>0.144762</td>\n",
       "      <td>...</td>\n",
       "      <td>0.001905</td>\n",
       "      <td>0.001905</td>\n",
       "      <td>0.001905</td>\n",
       "      <td>0.001905</td>\n",
       "      <td>0.001905</td>\n",
       "      <td>0.001905</td>\n",
       "      <td>0.001905</td>\n",
       "      <td>0.001905</td>\n",
       "      <td>0.001905</td>\n",
       "      <td>0.001905</td>\n",
       "    </tr>\n",
       "  </tbody>\n",
       "</table>\n",
       "<p>5 rows × 78 columns</p>\n",
       "</div>"
      ],
      "text/plain": [
       "             TweetsID                                     Tokenized_text  \\\n",
       "0  666677687038119936  do not sleep tory lanez the observatory orange...   \n",
       "2  663148942906023940  fish triple cooked chips new improved farmersg...   \n",
       "3  610628075341135872                    sgi blue parrot oceanfront cafe   \n",
       "4  665696902982279168  fall fire northern california santa clara cali...   \n",
       "5  606862658453794816  my baby kindergarten year it yesterday fat lit...   \n",
       "\n",
       "   label  topics_1  topics_2  topics_3  topics_4  topics_5  topics_6  \\\n",
       "0      1  0.001905  0.001905  0.001905  0.001905  0.001905  0.001905   \n",
       "2      1  0.002222  0.002222  0.002222  0.002222  0.168889  0.002222   \n",
       "3      0  0.003333  0.003333  0.003333  0.003333  0.003333  0.003333   \n",
       "4      0  0.001667  0.001667  0.001667  0.001667  0.126667  0.001667   \n",
       "5      1  0.001905  0.001905  0.001905  0.001905  0.001905  0.001905   \n",
       "\n",
       "   topics_7    ...      topics_66  topics_67  topics_68  topics_69  topics_70  \\\n",
       "0  0.001905    ...       0.001905   0.001905   0.001905   0.001905   0.001905   \n",
       "2  0.002222    ...       0.002222   0.002222   0.002222   0.002222   0.002222   \n",
       "3  0.003333    ...       0.003333   0.003333   0.003333   0.003333   0.003333   \n",
       "4  0.001667    ...       0.001667   0.001667   0.001667   0.001667   0.001667   \n",
       "5  0.144762    ...       0.001905   0.001905   0.001905   0.001905   0.001905   \n",
       "\n",
       "   topics_71  topics_72  topics_73  topics_74  topics_75  \n",
       "0   0.001905   0.001905   0.001905   0.001905   0.001905  \n",
       "2   0.002222   0.002222   0.002222   0.002222   0.002222  \n",
       "3   0.003333   0.003333   0.003333   0.003333   0.003333  \n",
       "4   0.001667   0.001667   0.001667   0.001667   0.001667  \n",
       "5   0.001905   0.001905   0.001905   0.001905   0.001905  \n",
       "\n",
       "[5 rows x 78 columns]"
      ]
     },
     "execution_count": 42,
     "metadata": {},
     "output_type": "execute_result"
    }
   ],
   "source": [
    "data_ft.head()\n"
   ]
  },
  {
   "cell_type": "code",
   "execution_count": 28,
   "metadata": {
    "collapsed": true
   },
   "outputs": [],
   "source": [
    "X = data_ft[['topics_{}'.format(i+1) for i in range(75)]]\n",
    "y = data_ft.label\n",
    "from sklearn.model_selection import train_test_split\n",
    "X_train, X_test, y_train, y_test = train_test_split(X, y, test_size=0.2, random_state=42)"
   ]
  },
  {
   "cell_type": "code",
   "execution_count": 30,
   "metadata": {},
   "outputs": [
    {
     "data": {
      "text/plain": [
       "RandomForestClassifier(bootstrap=True, class_weight=None, criterion='gini',\n",
       "            max_depth=2, max_features='auto', max_leaf_nodes=None,\n",
       "            min_impurity_split=1e-07, min_samples_leaf=1,\n",
       "            min_samples_split=2, min_weight_fraction_leaf=0.0,\n",
       "            n_estimators=100, n_jobs=1, oob_score=False, random_state=0,\n",
       "            verbose=0, warm_start=False)"
      ]
     },
     "execution_count": 30,
     "metadata": {},
     "output_type": "execute_result"
    }
   ],
   "source": [
    "\n",
    "clf = ensemble.RandomForestClassifier(n_estimators=100, max_depth=2,\n",
    "                            random_state=0)\n",
    "clf.fit(X_train, y_train)"
   ]
  },
  {
   "cell_type": "code",
   "execution_count": 31,
   "metadata": {},
   "outputs": [
    {
     "name": "stdout",
     "output_type": "stream",
     "text": [
      "0.6237048208867486\n"
     ]
    }
   ],
   "source": [
    "y_test_predicted = clf.predict(X_test)\n",
    "accuracy = metrics.accuracy_score(y_test, y_test_predicted)\n",
    "print(accuracy)"
   ]
  },
  {
   "cell_type": "code",
   "execution_count": 32,
   "metadata": {},
   "outputs": [
    {
     "data": {
      "text/plain": [
       "0.6070936475442197"
      ]
     },
     "execution_count": 32,
     "metadata": {},
     "output_type": "execute_result"
    }
   ],
   "source": [
    "fpr, tpr, thresholds = metrics.roc_curve(y_test, y_test_predicted)\n",
    "metrics.auc(fpr, tpr)    "
   ]
  },
  {
   "cell_type": "markdown",
   "metadata": {
    "collapsed": true
   },
   "source": [
    "## tpoics 25, maxfeature 16000, maxDF 0.4"
   ]
  },
  {
   "cell_type": "code",
   "execution_count": 10,
   "metadata": {
    "collapsed": true
   },
   "outputs": [],
   "source": [
    "with open(\"saved_model/tfVectorizer_topics=25_maxFeatures=16000_maxDf=0.4_minDf=1.pickle\", \"rb\") as input_file:\n",
    "    tf_vectorizer1 = pkl.load(input_file)\n",
    "with open(\"saved_model/LDA_topics=25_maxFeatures=16000_maxDf=0.4_minDf=1.pickle\", \"rb\") as input_file:\n",
    "    lda1 = pkl.load(input_file)"
   ]
  },
  {
   "cell_type": "code",
   "execution_count": 11,
   "metadata": {},
   "outputs": [],
   "source": [
    "topic_prob1 = lda1.transform(tf_vectorizer1.transform(data_model['Tokenized_text']))"
   ]
  },
  {
   "cell_type": "code",
   "execution_count": 13,
   "metadata": {},
   "outputs": [],
   "source": [
    "new_cols = ['topics_{}'.format(i+1) for i in range(25)]\n",
    "new_vals = [list(topic_prob1[i]) for i in range(len(data_model))]\n",
    "data_ft1 = data_model.reindex(columns=data_model.columns.tolist() + new_cols)   # add empty cols\n",
    "data_ft1[new_cols] = new_vals "
   ]
  },
  {
   "cell_type": "code",
   "execution_count": 14,
   "metadata": {
    "collapsed": true
   },
   "outputs": [],
   "source": [
    "X1 = data_ft1[['topics_{}'.format(i+1) for i in range(25)]]\n",
    "y1 = data_ft1.label\n",
    "from sklearn.model_selection import train_test_split\n",
    "X_train1, X_test1, y_train1, y_test1 = train_test_split(X1, y1, test_size=0.2, random_state=42)"
   ]
  },
  {
   "cell_type": "code",
   "execution_count": 18,
   "metadata": {},
   "outputs": [
    {
     "data": {
      "text/plain": [
       "RandomForestClassifier(bootstrap=True, class_weight=None, criterion='gini',\n",
       "            max_depth=2, max_features='auto', max_leaf_nodes=None,\n",
       "            min_impurity_decrease=0.0, min_impurity_split=None,\n",
       "            min_samples_leaf=1, min_samples_split=2,\n",
       "            min_weight_fraction_leaf=0.0, n_estimators=100, n_jobs=None,\n",
       "            oob_score=False, random_state=0, verbose=0, warm_start=False)"
      ]
     },
     "execution_count": 18,
     "metadata": {},
     "output_type": "execute_result"
    }
   ],
   "source": [
    "clf1 = ensemble.RandomForestClassifier(n_estimators=100, max_depth=2,\n",
    "                            random_state=0)\n",
    "clf1.fit(X_train1, y_train1)"
   ]
  },
  {
   "cell_type": "code",
   "execution_count": 19,
   "metadata": {},
   "outputs": [
    {
     "name": "stdout",
     "output_type": "stream",
     "text": [
      "0.620928493423864\n"
     ]
    }
   ],
   "source": [
    "y_test_predicted1 = clf1.predict(X_test1)\n",
    "accuracy1 = metrics.accuracy_score(y_test1, y_test_predicted1)\n",
    "print(accuracy1)"
   ]
  },
  {
   "cell_type": "code",
   "execution_count": 20,
   "metadata": {},
   "outputs": [
    {
     "data": {
      "text/plain": [
       "0.6053337092917872"
      ]
     },
     "execution_count": 20,
     "metadata": {},
     "output_type": "execute_result"
    }
   ],
   "source": [
    "fpr1, tpr1, thresholds1 = metrics.roc_curve(y_test1, y_test_predicted1)\n",
    "metrics.auc(fpr1, tpr1)   "
   ]
  },
  {
   "cell_type": "markdown",
   "metadata": {},
   "source": [
    "## tpoics 25, maxfeature 16000, maxDF 0.4"
   ]
  },
  {
   "cell_type": "code",
   "execution_count": 21,
   "metadata": {
    "collapsed": true
   },
   "outputs": [],
   "source": [
    "with open(\"saved_model/tfVectorizer_topics=25_maxFeatures=12000_maxDf=0.4_minDf=1.pickle\", \"rb\") as input_file:\n",
    "    tf_vectorizer1 = pkl.load(input_file)\n",
    "with open(\"saved_model/LDA_topics=25_maxFeatures=12000_maxDf=0.4_minDf=1.pickle\", \"rb\") as input_file:\n",
    "    lda1 = pkl.load(input_file)"
   ]
  },
  {
   "cell_type": "code",
   "execution_count": 22,
   "metadata": {
    "collapsed": true
   },
   "outputs": [],
   "source": [
    "topic_prob2 = lda1.transform(tf_vectorizer1.transform(data_model['Tokenized_text']))"
   ]
  },
  {
   "cell_type": "code",
   "execution_count": 23,
   "metadata": {
    "collapsed": true
   },
   "outputs": [],
   "source": [
    "new_cols = ['topics_{}'.format(i+1) for i in range(25)]\n",
    "new_vals = [list(topic_prob2[i]) for i in range(len(data_model))]\n",
    "data_ft2 = data_model.reindex(columns=data_model.columns.tolist() + new_cols)   # add empty cols\n",
    "data_ft2[new_cols] = new_vals "
   ]
  },
  {
   "cell_type": "code",
   "execution_count": 24,
   "metadata": {
    "collapsed": true
   },
   "outputs": [],
   "source": [
    "X1 = data_ft2[['topics_{}'.format(i+1) for i in range(25)]]\n",
    "y1 = data_ft2.label\n",
    "from sklearn.model_selection import train_test_split\n",
    "X_train1, X_test1, y_train1, y_test1 = train_test_split(X1, y1, test_size=0.2, random_state=42)"
   ]
  },
  {
   "cell_type": "code",
   "execution_count": 25,
   "metadata": {},
   "outputs": [
    {
     "data": {
      "text/plain": [
       "RandomForestClassifier(bootstrap=True, class_weight=None, criterion='gini',\n",
       "            max_depth=2, max_features='auto', max_leaf_nodes=None,\n",
       "            min_impurity_decrease=0.0, min_impurity_split=None,\n",
       "            min_samples_leaf=1, min_samples_split=2,\n",
       "            min_weight_fraction_leaf=0.0, n_estimators=100, n_jobs=None,\n",
       "            oob_score=False, random_state=0, verbose=0, warm_start=False)"
      ]
     },
     "execution_count": 25,
     "metadata": {},
     "output_type": "execute_result"
    }
   ],
   "source": [
    "clf2 = ensemble.RandomForestClassifier(n_estimators=100, max_depth=2,\n",
    "                            random_state=0)\n",
    "clf2.fit(X_train1, y_train1)"
   ]
  },
  {
   "cell_type": "code",
   "execution_count": 26,
   "metadata": {},
   "outputs": [
    {
     "name": "stdout",
     "output_type": "stream",
     "text": [
      "0.6122157067565642\n"
     ]
    }
   ],
   "source": [
    "y_test_predicted1 = clf2.predict(X_test1)\n",
    "accuracy1 = metrics.accuracy_score(y_test1, y_test_predicted1)\n",
    "print(accuracy1)"
   ]
  },
  {
   "cell_type": "markdown",
   "metadata": {},
   "source": [
    "## topics 100， max Feature 12000, maxDF 0.4"
   ]
  },
  {
   "cell_type": "code",
   "execution_count": 28,
   "metadata": {},
   "outputs": [],
   "source": [
    "with open(\"tfVectorizer_topics=100_maxFeatures=12000_maxDf=0.4_minDf=1.pickle\", \"rb\") as input_file:\n",
    "    tf_vectorizer1 = pkl.load(input_file)\n",
    "with open(\"LDA_topics=100_maxFeatures=12000_maxDf=0.4_minDf=1.pickle\", \"rb\") as input_file:\n",
    "    lda1 = pkl.load(input_file)\n"
   ]
  },
  {
   "cell_type": "code",
   "execution_count": 29,
   "metadata": {
    "collapsed": true
   },
   "outputs": [],
   "source": [
    "topic_prob2 = lda1.transform(tf_vectorizer1.transform(data_model['Tokenized_text']))"
   ]
  },
  {
   "cell_type": "code",
   "execution_count": 31,
   "metadata": {},
   "outputs": [],
   "source": [
    "new_cols = ['topics_{}'.format(i+1) for i in range(100)]\n",
    "new_vals = [list(topic_prob2[i]) for i in range(len(data_model))]\n",
    "data_ft3 = data_model.reindex(columns=data_model.columns.tolist() + new_cols)   # add empty cols\n",
    "data_ft3[new_cols] = new_vals "
   ]
  },
  {
   "cell_type": "code",
   "execution_count": 32,
   "metadata": {
    "collapsed": true
   },
   "outputs": [],
   "source": [
    "X1 = data_ft3[['topics_{}'.format(i+1) for i in range(25)]]\n",
    "y1 = data_ft3.label\n",
    "from sklearn.model_selection import train_test_split\n",
    "X_train1, X_test1, y_train1, y_test1 = train_test_split(X1, y1, test_size=0.2, random_state=42)"
   ]
  },
  {
   "cell_type": "code",
   "execution_count": 33,
   "metadata": {},
   "outputs": [
    {
     "data": {
      "text/plain": [
       "RandomForestClassifier(bootstrap=True, class_weight=None, criterion='gini',\n",
       "            max_depth=2, max_features='auto', max_leaf_nodes=None,\n",
       "            min_impurity_decrease=0.0, min_impurity_split=None,\n",
       "            min_samples_leaf=1, min_samples_split=2,\n",
       "            min_weight_fraction_leaf=0.0, n_estimators=100, n_jobs=None,\n",
       "            oob_score=False, random_state=0, verbose=0, warm_start=False)"
      ]
     },
     "execution_count": 33,
     "metadata": {},
     "output_type": "execute_result"
    }
   ],
   "source": [
    "clf3 = ensemble.RandomForestClassifier(n_estimators=100, max_depth=2,\n",
    "                            random_state=0)\n",
    "clf3.fit(X_train1, y_train1)"
   ]
  },
  {
   "cell_type": "code",
   "execution_count": 34,
   "metadata": {},
   "outputs": [
    {
     "name": "stdout",
     "output_type": "stream",
     "text": [
      "0.5452910593039267\n"
     ]
    }
   ],
   "source": [
    "y_test_predicted1 = clf2.predict(X_test1)\n",
    "accuracy1 = metrics.accuracy_score(y_test1, y_test_predicted1)\n",
    "print(accuracy1)"
   ]
  },
  {
   "cell_type": "code",
   "execution_count": null,
   "metadata": {
    "collapsed": true
   },
   "outputs": [],
   "source": []
  }
 ],
 "metadata": {
  "kernelspec": {
   "display_name": "Python 3",
   "language": "python",
   "name": "python3"
  },
  "language_info": {
   "codemirror_mode": {
    "name": "ipython",
    "version": 3
   },
   "file_extension": ".py",
   "mimetype": "text/x-python",
   "name": "python",
   "nbconvert_exporter": "python",
   "pygments_lexer": "ipython3",
   "version": "3.6.2"
  }
 },
 "nbformat": 4,
 "nbformat_minor": 2
}
